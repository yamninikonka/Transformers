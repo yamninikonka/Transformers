{
 "cells": [
  {
   "cell_type": "markdown",
   "id": "c6f76ca9",
   "metadata": {},
   "source": [
    "<!--  -->"
   ]
  },
  {
   "cell_type": "markdown",
   "id": "944e2a9a",
   "metadata": {},
   "source": [
    "#### Statistical Word Embedding\n",
    "### **tf-idf**\n",
    "this algorithm is mainly running around two concepts\n",
    "- importance of a word w in a document d\n",
    "\\begin{align}\n",
    "TF(w,d) &= \\frac{number \\; of \\; times \\; a \\; word \\; w \\; appears \\; in \\; a \\; document \\; d}{total \\; number \\; of \\; words \\; in \\; document \\; d}\n",
    "\\end{align}\n",
    "        \n",
    "- is this an special word in document corpus\n",
    "\\begin{align}\n",
    "IDF(w,S) &= \\frac{total \\; number \\; of \\; documents \\; in \\; dataset \\; S}{number \\; of \\; documents \\; contain \\; word \\; w}\n",
    "\\end{align}\n",
    "+ Pseudo code:\n",
    "\n",
    "*  calculate the TF and IDF of each word in an corpus\n",
    "*  these act as vector embeddings to compare the relavence and importance of an word in given word corpus\n",
    "\n",
    "+ Sources\n",
    "* [Good Source](https://www.geeksforgeeks.org/machine-learning/understanding-tf-idf-term-frequency-inverse-document-frequency/)"
   ]
  },
  {
   "cell_type": "markdown",
   "id": "111c281e",
   "metadata": {},
   "source": [
    "## 1. My Own Implementation"
   ]
  },
  {
   "cell_type": "code",
   "execution_count": 1,
   "id": "960d9bb9",
   "metadata": {},
   "outputs": [],
   "source": [
    "import numpy as np\n",
    "import math\n",
    "import json\n",
    "import string\n",
    "import re"
   ]
  },
  {
   "cell_type": "code",
   "execution_count": 3,
   "id": "caade7e9",
   "metadata": {},
   "outputs": [],
   "source": [
    "from extract_rewedata import extract_rewedata\n"
   ]
  },
  {
   "cell_type": "code",
   "execution_count": 4,
   "id": "1f42558c",
   "metadata": {},
   "outputs": [
    {
     "name": "stdout",
     "output_type": "stream",
     "text": [
      "CSV file already exists, skipping conversion.\n",
      "CSV file read successfully!\n",
      "               filename                                           document\n",
      "0        REWE-03-05.pdf  REWE Ströbel oHG\\nFleiner Str. 26\\n74072 Heilb...\n",
      "1        REWE-05-05.pdf  REWE Ströbel oHG\\nFleiner Str. 26\\n74072 Heilb...\n",
      "2        REWE-08-05.pdf  R E W E\\n****** Etzelstr. ******\\n****** 74076...\n",
      "3        REWE-09-05.pdf  REWE Ströbel oHG\\nFleiner Str. 26\\n74072 Heilb...\n",
      "4  REWE-eBon (1)(1).pdf  REWE Ströbel oHG\\nFleiner Str. 26\\n74072 Heilb...\n"
     ]
    },
    {
     "data": {
      "text/html": [
       "<div>\n",
       "<style scoped>\n",
       "    .dataframe tbody tr th:only-of-type {\n",
       "        vertical-align: middle;\n",
       "    }\n",
       "\n",
       "    .dataframe tbody tr th {\n",
       "        vertical-align: top;\n",
       "    }\n",
       "\n",
       "    .dataframe thead th {\n",
       "        text-align: right;\n",
       "    }\n",
       "</style>\n",
       "<table border=\"1\" class=\"dataframe\">\n",
       "  <thead>\n",
       "    <tr style=\"text-align: right;\">\n",
       "      <th></th>\n",
       "      <th>filename</th>\n",
       "      <th>document</th>\n",
       "    </tr>\n",
       "  </thead>\n",
       "  <tbody>\n",
       "    <tr>\n",
       "      <th>0</th>\n",
       "      <td>REWE-03-05.pdf</td>\n",
       "      <td>REWE Ströbel oHG\\nFleiner Str. 26\\n74072 Heilb...</td>\n",
       "    </tr>\n",
       "    <tr>\n",
       "      <th>1</th>\n",
       "      <td>REWE-05-05.pdf</td>\n",
       "      <td>REWE Ströbel oHG\\nFleiner Str. 26\\n74072 Heilb...</td>\n",
       "    </tr>\n",
       "    <tr>\n",
       "      <th>2</th>\n",
       "      <td>REWE-08-05.pdf</td>\n",
       "      <td>R E W E\\n****** Etzelstr. ******\\n****** 74076...</td>\n",
       "    </tr>\n",
       "    <tr>\n",
       "      <th>3</th>\n",
       "      <td>REWE-09-05.pdf</td>\n",
       "      <td>REWE Ströbel oHG\\nFleiner Str. 26\\n74072 Heilb...</td>\n",
       "    </tr>\n",
       "    <tr>\n",
       "      <th>4</th>\n",
       "      <td>REWE-eBon (1)(1).pdf</td>\n",
       "      <td>REWE Ströbel oHG\\nFleiner Str. 26\\n74072 Heilb...</td>\n",
       "    </tr>\n",
       "    <tr>\n",
       "      <th>5</th>\n",
       "      <td>REWE-eBon (1).pdf</td>\n",
       "      <td>REWE Ströbel oHG\\nFleiner Str. 26\\n74072 Heilb...</td>\n",
       "    </tr>\n",
       "    <tr>\n",
       "      <th>6</th>\n",
       "      <td>REWE-eBon (2)(1).pdf</td>\n",
       "      <td>REWE Ströbel oHG\\nFleiner Str. 26\\n74072 Heilb...</td>\n",
       "    </tr>\n",
       "    <tr>\n",
       "      <th>7</th>\n",
       "      <td>REWE-eBon (2).pdf</td>\n",
       "      <td>REWE Ströbel oHG\\nFleiner Str. 26\\n74072 Heilb...</td>\n",
       "    </tr>\n",
       "    <tr>\n",
       "      <th>8</th>\n",
       "      <td>REWE-eBon (3)(1).pdf</td>\n",
       "      <td>REWE Ströbel oHG\\nFleiner Str. 26\\n74072 Heilb...</td>\n",
       "    </tr>\n",
       "    <tr>\n",
       "      <th>9</th>\n",
       "      <td>REWE-eBon (3).pdf</td>\n",
       "      <td>R E W E\\n****** Etzelstr. ******\\n****** 74076...</td>\n",
       "    </tr>\n",
       "    <tr>\n",
       "      <th>10</th>\n",
       "      <td>REWE-eBon (4)(1).pdf</td>\n",
       "      <td>R E W E\\n****** Etzelstr. ******\\n****** 74076...</td>\n",
       "    </tr>\n",
       "    <tr>\n",
       "      <th>11</th>\n",
       "      <td>REWE-eBon (4).pdf</td>\n",
       "      <td>REWE Ströbel oHG\\nFleiner Str. 26\\n74072 Heilb...</td>\n",
       "    </tr>\n",
       "    <tr>\n",
       "      <th>12</th>\n",
       "      <td>REWE-eBon (5).pdf</td>\n",
       "      <td>REWE Ströbel oHG\\nFleiner Str. 26\\n74072 Heilb...</td>\n",
       "    </tr>\n",
       "    <tr>\n",
       "      <th>13</th>\n",
       "      <td>REWE-eBon (6).pdf</td>\n",
       "      <td>REWE Ströbel oHG\\nFleiner Str. 26\\n74072 Heilb...</td>\n",
       "    </tr>\n",
       "    <tr>\n",
       "      <th>14</th>\n",
       "      <td>REWE-eBon (7).pdf</td>\n",
       "      <td>REWE Ströbel oHG\\nFleiner Str. 26\\n74072 Heilb...</td>\n",
       "    </tr>\n",
       "    <tr>\n",
       "      <th>15</th>\n",
       "      <td>REWE-eBon (8).pdf</td>\n",
       "      <td>REWE Ströbel oHG\\nFleiner Str. 26\\n74072 Heilb...</td>\n",
       "    </tr>\n",
       "    <tr>\n",
       "      <th>16</th>\n",
       "      <td>REWE-eBon(1).pdf</td>\n",
       "      <td>R E W E\\n****** Etzelstr. ******\\n****** 74076...</td>\n",
       "    </tr>\n",
       "    <tr>\n",
       "      <th>17</th>\n",
       "      <td>REWE-eBon(2).pdf</td>\n",
       "      <td>REWE Ströbel oHG\\nFleiner Str. 26\\n74072 Heilb...</td>\n",
       "    </tr>\n",
       "    <tr>\n",
       "      <th>18</th>\n",
       "      <td>REWE-eBon-01.pdf</td>\n",
       "      <td>R E W E\\n****** Etzelstr. ******\\n****** 74076...</td>\n",
       "    </tr>\n",
       "    <tr>\n",
       "      <th>19</th>\n",
       "      <td>REWE-eBon-04.pdf</td>\n",
       "      <td>REWE Ströbel oHG\\nFleiner Str. 26\\n74072 Heilb...</td>\n",
       "    </tr>\n",
       "    <tr>\n",
       "      <th>20</th>\n",
       "      <td>REWE-eBon-08.pdf</td>\n",
       "      <td>R E W E\\n****** Etzelstr. ******\\n****** 74076...</td>\n",
       "    </tr>\n",
       "    <tr>\n",
       "      <th>21</th>\n",
       "      <td>REWE-eBon-13.pdf</td>\n",
       "      <td>REWE Ströbel oHG\\nFleiner Str. 26\\n74072 Heilb...</td>\n",
       "    </tr>\n",
       "    <tr>\n",
       "      <th>22</th>\n",
       "      <td>REWE-eBon-15.pdf</td>\n",
       "      <td>R E W E\\n****** Etzelstr. ******\\n****** 74076...</td>\n",
       "    </tr>\n",
       "    <tr>\n",
       "      <th>23</th>\n",
       "      <td>REWE-eBon-28.pdf</td>\n",
       "      <td>REWE Ströbel oHG\\nFleiner Str. 26\\n74072 Heilb...</td>\n",
       "    </tr>\n",
       "    <tr>\n",
       "      <th>24</th>\n",
       "      <td>REWE-eBon-29_1.pdf</td>\n",
       "      <td>R E W E\\n****** Etzelstr. ******\\n****** 74076...</td>\n",
       "    </tr>\n",
       "    <tr>\n",
       "      <th>25</th>\n",
       "      <td>REWE-eBon-29_2.pdf</td>\n",
       "      <td>REWE Ströbel oHG\\nFleiner Str. 26\\n74072 Heilb...</td>\n",
       "    </tr>\n",
       "    <tr>\n",
       "      <th>26</th>\n",
       "      <td>REWE-eBon-30-05.pdf</td>\n",
       "      <td>REWE Ströbel oHG\\nFleiner Str. 26\\n74072 Heilb...</td>\n",
       "    </tr>\n",
       "    <tr>\n",
       "      <th>27</th>\n",
       "      <td>REWE-eBon.pdf</td>\n",
       "      <td>REWE Ströbel oHG\\nFleiner Str. 26\\n74072 Heilb...</td>\n",
       "    </tr>\n",
       "  </tbody>\n",
       "</table>\n",
       "</div>"
      ],
      "text/plain": [
       "                filename                                           document\n",
       "0         REWE-03-05.pdf  REWE Ströbel oHG\\nFleiner Str. 26\\n74072 Heilb...\n",
       "1         REWE-05-05.pdf  REWE Ströbel oHG\\nFleiner Str. 26\\n74072 Heilb...\n",
       "2         REWE-08-05.pdf  R E W E\\n****** Etzelstr. ******\\n****** 74076...\n",
       "3         REWE-09-05.pdf  REWE Ströbel oHG\\nFleiner Str. 26\\n74072 Heilb...\n",
       "4   REWE-eBon (1)(1).pdf  REWE Ströbel oHG\\nFleiner Str. 26\\n74072 Heilb...\n",
       "5      REWE-eBon (1).pdf  REWE Ströbel oHG\\nFleiner Str. 26\\n74072 Heilb...\n",
       "6   REWE-eBon (2)(1).pdf  REWE Ströbel oHG\\nFleiner Str. 26\\n74072 Heilb...\n",
       "7      REWE-eBon (2).pdf  REWE Ströbel oHG\\nFleiner Str. 26\\n74072 Heilb...\n",
       "8   REWE-eBon (3)(1).pdf  REWE Ströbel oHG\\nFleiner Str. 26\\n74072 Heilb...\n",
       "9      REWE-eBon (3).pdf  R E W E\\n****** Etzelstr. ******\\n****** 74076...\n",
       "10  REWE-eBon (4)(1).pdf  R E W E\\n****** Etzelstr. ******\\n****** 74076...\n",
       "11     REWE-eBon (4).pdf  REWE Ströbel oHG\\nFleiner Str. 26\\n74072 Heilb...\n",
       "12     REWE-eBon (5).pdf  REWE Ströbel oHG\\nFleiner Str. 26\\n74072 Heilb...\n",
       "13     REWE-eBon (6).pdf  REWE Ströbel oHG\\nFleiner Str. 26\\n74072 Heilb...\n",
       "14     REWE-eBon (7).pdf  REWE Ströbel oHG\\nFleiner Str. 26\\n74072 Heilb...\n",
       "15     REWE-eBon (8).pdf  REWE Ströbel oHG\\nFleiner Str. 26\\n74072 Heilb...\n",
       "16      REWE-eBon(1).pdf  R E W E\\n****** Etzelstr. ******\\n****** 74076...\n",
       "17      REWE-eBon(2).pdf  REWE Ströbel oHG\\nFleiner Str. 26\\n74072 Heilb...\n",
       "18      REWE-eBon-01.pdf  R E W E\\n****** Etzelstr. ******\\n****** 74076...\n",
       "19      REWE-eBon-04.pdf  REWE Ströbel oHG\\nFleiner Str. 26\\n74072 Heilb...\n",
       "20      REWE-eBon-08.pdf  R E W E\\n****** Etzelstr. ******\\n****** 74076...\n",
       "21      REWE-eBon-13.pdf  REWE Ströbel oHG\\nFleiner Str. 26\\n74072 Heilb...\n",
       "22      REWE-eBon-15.pdf  R E W E\\n****** Etzelstr. ******\\n****** 74076...\n",
       "23      REWE-eBon-28.pdf  REWE Ströbel oHG\\nFleiner Str. 26\\n74072 Heilb...\n",
       "24    REWE-eBon-29_1.pdf  R E W E\\n****** Etzelstr. ******\\n****** 74076...\n",
       "25    REWE-eBon-29_2.pdf  REWE Ströbel oHG\\nFleiner Str. 26\\n74072 Heilb...\n",
       "26   REWE-eBon-30-05.pdf  REWE Ströbel oHG\\nFleiner Str. 26\\n74072 Heilb...\n",
       "27         REWE-eBon.pdf  REWE Ströbel oHG\\nFleiner Str. 26\\n74072 Heilb..."
      ]
     },
     "execution_count": 4,
     "metadata": {},
     "output_type": "execute_result"
    }
   ],
   "source": [
    "df = extract_rewedata()\n",
    "df"
   ]
  },
  {
   "cell_type": "markdown",
   "id": "feff7fe9",
   "metadata": {},
   "source": [
    "### 1.1. Preprocessing Documents"
   ]
  },
  {
   "cell_type": "code",
   "execution_count": 5,
   "id": "20afa9bd",
   "metadata": {},
   "outputs": [],
   "source": [
    "def preprocessing_document(docu):\n",
    "    \"\"\"\n",
    "    Here a simple preprocessing implemented\n",
    "    1. convert <space> into <\\n>\n",
    "    2. divide string at each <\\n> \n",
    "    \n",
    "    return: list of words of single document\n",
    "    \"\"\"\n",
    "    # docu_space_into_newline = docu_space_into_newline.replace(re.escape(string.punctuation), '')\n",
    "    docu_space_into_newline = docu.replace(' ', '\\n')\n",
    "    docu_space_into_newline = docu_space_into_newline.lower()\n",
    "    docu_words_at_newline = docu_space_into_newline.split('\\n')\n",
    "    # print(len(docu_words_at_newline), type(docu_words_at_newline))\n",
    "    # arr = np.array(docu_1_re_split)\n",
    "    return docu_words_at_newline\n"
   ]
  },
  {
   "cell_type": "markdown",
   "id": "10dce653",
   "metadata": {},
   "source": [
    "### 1.2. Calculate TF(Term Frequency)"
   ]
  },
  {
   "cell_type": "code",
   "execution_count": 6,
   "id": "eee1c15e",
   "metadata": {},
   "outputs": [],
   "source": [
    "def calculate_TF(docu_list, focus_word):\n",
    "    word_count = 0\n",
    "    for word in docu_list:\n",
    "        if focus_word == word:\n",
    "            word_count+=1\n",
    "    \n",
    "    return word_count, word_count/len(docu_list)\n"
   ]
  },
  {
   "cell_type": "code",
   "execution_count": 7,
   "id": "9c90049d",
   "metadata": {},
   "outputs": [
    {
     "name": "stdout",
     "output_type": "stream",
     "text": [
      "['rewe', 'ströbel', 'ohg', 'fleiner', 'str.', '26', '74072', 'heilbronn', 'uid', 'nr.:']\n"
     ]
    }
   ],
   "source": [
    "# Single Document Each Word TF calculation\n",
    "docu_1_re_split = preprocessing_document(df.iloc[0, 1])\n",
    "print(docu_1_re_split[:10])\n",
    "# for word in docu_1_re_split:\n",
    "#     print(word, calculate_TF(docu_1_re_split, word), '\\n')"
   ]
  },
  {
   "cell_type": "code",
   "execution_count": 8,
   "id": "13a0182e",
   "metadata": {},
   "outputs": [],
   "source": [
    "def per_docu_TF(corpus):\n",
    "    docu_dict={}\n",
    "    for c1, c2 in corpus.iterrows():\n",
    "        docu=preprocessing_document(c2['document'])\n",
    "        count_tf_dict={}\n",
    "        for word in docu:\n",
    "            count, tf = calculate_TF(docu, word)\n",
    "            if not word in count_tf_dict.keys():\n",
    "                count_tf_dict[word]=[count, tf]\n",
    "        docu_dict[c2['filename']] = count_tf_dict\n",
    "        count_tf_dict={}\n",
    "\n",
    "    return docu_dict"
   ]
  },
  {
   "cell_type": "code",
   "execution_count": 14,
   "id": "5433fa31",
   "metadata": {},
   "outputs": [
    {
     "name": "stdout",
     "output_type": "stream",
     "text": [
      "{\n",
      "  \"rewe\": [\n",
      "    5,\n",
      "    0.04\n",
      "  ],\n",
      "  \"str\\u00f6bel\": [\n",
      "    1,\n",
      "    0.008\n",
      "  ],\n",
      "  \"ohg\": [\n",
      "    1,\n",
      "    0.008\n",
      "  ],\n",
      "  \"fleiner\": [\n",
      "    1,\n",
      "    0.008\n",
      "  ],\n",
      "  \"str.\": [\n",
      "    1,\n",
      "    0.008\n",
      "  ]\n",
      "}\n"
     ]
    }
   ],
   "source": [
    "from itertools import islice\n",
    "\n",
    "print(json.dumps(dict(islice(per_docu_TF(df)[\"REWE-03-05.pdf\"].items(), 5)), indent=2))\n",
    "# per_docu_TF(df)"
   ]
  },
  {
   "cell_type": "markdown",
   "id": "59edabb2",
   "metadata": {},
   "source": [
    "### 1.3. Calculate IDF(Inverse Document Frequency)"
   ]
  },
  {
   "cell_type": "code",
   "execution_count": 15,
   "id": "1a32b342",
   "metadata": {},
   "outputs": [
    {
     "name": "stdout",
     "output_type": "stream",
     "text": [
      "(20, 0.3364722366212129)\n"
     ]
    }
   ],
   "source": [
    "def word_in_docu(docu, word):\n",
    "    for each in docu:\n",
    "        if word == each:\n",
    "            return True\n",
    "    return False\n",
    "\n",
    "def calculate_IDF(docu_corpus, word=None):\n",
    "    docu_count = 0\n",
    "    for each in docu_corpus['document']:\n",
    "        if word_in_docu(preprocessing_document(each), word):\n",
    "            docu_count+=1\n",
    "\n",
    "    if docu_count>0:\n",
    "        return docu_count, math.log(docu_corpus.shape[0]/docu_count)\n",
    "    else:\n",
    "        return docu_count, 0\n",
    "\n",
    "  \n",
    "print(calculate_IDF(df, '26'))"
   ]
  },
  {
   "cell_type": "code",
   "execution_count": 16,
   "id": "3b804e16",
   "metadata": {},
   "outputs": [],
   "source": [
    "def per_docu_IDF(corpus):\n",
    "    docu_dict={}\n",
    "    for c1, c2 in corpus.iterrows():\n",
    "        docu=preprocessing_document(c2['document'])\n",
    "        count_idf_dict={}\n",
    "        for word in docu:\n",
    "            count, idf = calculate_IDF(corpus, word)\n",
    "            if not word in count_idf_dict.keys():\n",
    "                count_idf_dict[word]=[count, idf]\n",
    "        docu_dict[c2['filename']] = count_idf_dict\n",
    "        count_idf_dict={}\n",
    "\n",
    "    return docu_dict"
   ]
  },
  {
   "cell_type": "code",
   "execution_count": 17,
   "id": "bc677538",
   "metadata": {},
   "outputs": [
    {
     "name": "stdout",
     "output_type": "stream",
     "text": [
      "{\n",
      "  \"rewe\": [\n",
      "    28,\n",
      "    0.0\n",
      "  ],\n",
      "  \"str\\u00f6bel\": [\n",
      "    20,\n",
      "    0.3364722366212129\n",
      "  ],\n",
      "  \"ohg\": [\n",
      "    20,\n",
      "    0.3364722366212129\n",
      "  ],\n",
      "  \"fleiner\": [\n",
      "    20,\n",
      "    0.3364722366212129\n",
      "  ],\n",
      "  \"str.\": [\n",
      "    20,\n",
      "    0.3364722366212129\n",
      "  ]\n",
      "}\n"
     ]
    }
   ],
   "source": [
    "# for whole corpus\n",
    "# print(json.dumps(per_docu_IDF(df), indent=2))\n",
    "print(json.dumps(dict(islice(per_docu_IDF(df)[\"REWE-03-05.pdf\"].items(), 5)), indent=2))"
   ]
  },
  {
   "cell_type": "markdown",
   "id": "b102a07c",
   "metadata": {},
   "source": [
    "### 1.4. Calculate the tf_idf score\n",
    "\n",
    "finally a high tf_idf score tells how important this word in this document and how rare it is across whole corpus"
   ]
  },
  {
   "cell_type": "code",
   "execution_count": 18,
   "id": "55e22f72",
   "metadata": {},
   "outputs": [
    {
     "data": {
      "text/plain": [
       "[0.0, 0.003, 0.003, 0.003, 0.003, 0.003, 0.003, 0.0, 0.0, 0.0]"
      ]
     },
     "execution_count": 18,
     "metadata": {},
     "output_type": "execute_result"
    }
   ],
   "source": [
    "def tf_idf_score():\n",
    "    corpus_tf = per_docu_TF(df)\n",
    "    corpus_idf = per_docu_IDF(df)\n",
    "    tf_idf_score = []\n",
    "    for docu in corpus_tf.keys():\n",
    "        local = []\n",
    "        for tf, idf in zip(corpus_tf[docu].values(), corpus_idf[docu].values()):\n",
    "            local.append(round(tf[1]*idf[1], 3))\n",
    "        tf_idf_score.append(local)\n",
    "        \n",
    "    return tf_idf_score\n",
    "\n",
    "tf_idf_score()[0][:10]\n"
   ]
  },
  {
   "cell_type": "markdown",
   "id": "abc555bf",
   "metadata": {},
   "source": [
    "## 2. Validate with Scikit Learn"
   ]
  },
  {
   "cell_type": "code",
   "execution_count": 19,
   "id": "c11d1697",
   "metadata": {},
   "outputs": [],
   "source": [
    "# import required module\n",
    "from sklearn.feature_extraction.text import TfidfVectorizer, CountVectorizer"
   ]
  },
  {
   "cell_type": "code",
   "execution_count": 20,
   "id": "c9eb6727",
   "metadata": {},
   "outputs": [
    {
     "data": {
      "text/plain": [
       "['REWE Ströbel oHG\\nFleiner Str. 26\\n74072 Heilbronn\\nUID Nr.: DE294160442\\nEUR\\nBIO JOGHURT 3,8% 1,39 B\\nFUSILLI BIO 2,49 B\\n--------------------------------------\\nSUMME EUR 3,88\\n======================================\\nGeg. American Express EUR 3,88\\nSteuer % Netto Steuer Brutto\\nB= 7,0% 3,63 0,25 3,88\\nGesamtbetrag 3,63 0,25 3,88\\nTSE-Signatur: R01cLqa9uBTqlG/Q+CrmwLk1bxla+Kbv9\\nH4C0hWCT6ZyxyA871PkkPT6OGHlMdOZRh\\nt4yIVubLyuAHc+VG+N35oWYSuc/hVV/YB\\n8ldfnCXVtqMhFyskLpVyxCVijVn/v\\nTSE-Signaturzähler: 3501987\\nTSE-Transaktion: 1685570\\nTSE-Start: 2025-05-03T18:44:27.000\\nTSE-Stop: 2025-05-03T18:44:42.000\\nSeriennnummer Kasse: REWE:74:56:3c:d7:a9:85:00\\n03.05.2025 18:44 Bon-Nr.:6040\\nMarkt:5101 Kasse:1 Bed.: 4444\\n****************************************\\nEntdecke und aktiviere alle REWE Bonus-\\nVorteile jetzt in der REWE App!\\nAktuelles Bonus-Guthaben: 3,24 EUR\\nSammle noch mehr REWE Bonus-Guthaben\\nmit Coupons und weiteren Vorteilen\\n- gleich in der REWE App aktivieren!\\nKeine Rabatte oder Guthaben auf mit *\\ngekennzeichnete Produkte\\n****************************************\\nVielen Dank für Ihren Einkauf\\nSie haben Fragen?\\nAntworten gibt es unter www.rewe.de',\n",
       " 'REWE Ströbel oHG\\nFleiner Str. 26\\n74072 Heilbronn\\nUID Nr.: DE294160442\\nEUR\\nREWE RAHMSPINAT 1,99 B\\nSCHW.BOHN.CHILI 1,99 B\\n--------------------------------------\\nSUMME EUR 3,98\\n======================================\\nGeg. American Express EUR 3,98\\nSteuer % Netto Steuer Brutto\\nB= 7,0% 3,72 0,26 3,98\\nGesamtbetrag 3,72 0,26 3,98\\nTSE-Signatur: JSmo1C3QZM6FfUuJpbUIH8ybtQxv8p1x9\\nmYNmBNPjNHPk5k705U+Ge2bmMmW3JHyDz\\nEUZ3Jc4YWlBy+ktFSy67mmGJsYgpZK5og\\nAWhhdiKQV8SRhygSF1895Lm/7SY+/\\nTSE-Signaturzähler: 3506038\\nTSE-Transaktion: 1687512\\nTSE-Start: 2025-05-05T19:58:48.000\\nTSE-Stop: 2025-05-05T19:59:35.000\\nSeriennnummer Kasse: REWE:10:ff:e0:7e:63:e6:00\\n05.05.2025 19:59 Bon-Nr.:3921\\nMarkt:5101 Kasse:3 Bed.:432103\\n****************************************\\nEntdecke und aktiviere alle REWE Bonus-\\nVorteile jetzt in der REWE App!\\nAktuelles Bonus-Guthaben: 3,24 EUR\\nSammle noch mehr REWE Bonus-Guthaben\\nmit Coupons und weiteren Vorteilen\\n- gleich in der REWE App aktivieren!\\nKeine Rabatte oder Guthaben auf mit *\\ngekennzeichnete Produkte\\n****************************************\\nVielen Dank für Ihren Einkauf\\nSie haben Fragen?\\nAntworten gibt es unter www.rewe.de',\n",
       " 'R E W E\\n****** Etzelstr. ******\\n****** 74076 Heilbronn ******\\n****** Tel 07131-177241 ******\\nUID Nr.: DE812706034\\nEUR\\nBANANE CHIQUITA 1,11 B\\n0,556 kg x 1,99 EUR/kg\\nAPFEL ROT 1,82 B\\n0,610 kg x 2,99 EUR/kg\\nAVOCADO ANGER. 1,39 B\\nSALATGURKE 0,69 B\\nNATURJOGH. 3,5% 0,89 B\\n--------------------------------------\\nSUMME EUR 5,90\\n======================================\\nGeg. American Express EUR 5,90\\nSteuer % Netto Steuer Brutto\\nB= 7,0% 5,51 0,39 5,90\\nGesamtbetrag 5,51 0,39 5,90\\nTSE-Signatur: Ggbai+2W3IzGRiOL9MPQLu6kTtH6lMqqc\\neZXlzRT6/QCXiDKyiJsatKAEFABrLuSX0\\nrf9EJihheRA2kTohPPy3WfSsmXzT0bbw9\\nt52Geax4mPeEsBEqtLWP5vhCdyzf4\\nTSE-Signaturzähler: 2367699\\nTSE-Transaktion: 1117117\\nTSE-Start: 2025-05-08T14:19:02.000\\nTSE-Stop: 2025-05-08T14:19:28.000\\nSeriennnummer Kasse: REWE:b4:2e:99:51:0b:6c:00\\n08.05.2025 14:19 Bon-Nr.:2618\\nMarkt:0190 Kasse:1 Bed.:242424\\n****************************************\\nEntdecke und aktiviere alle REWE Bonus-\\nVorteile jetzt in der REWE App!\\nAktuelles Bonus-Guthaben: 3,24 EUR\\nSammle noch mehr REWE Bonus-Guthaben\\nmit Coupons und weiteren Vorteilen\\n- gleich in der REWE App aktivieren!\\nKeine Rabatte oder Guthaben auf mit *\\ngekennzeichnete Produkte\\n****************************************\\nREWE Markt GmbH\\nSie haben Fragen?\\nAntworten gibt es unter www.rewe.de',\n",
       " 'REWE Ströbel oHG\\nFleiner Str. 26\\n74072 Heilbronn\\nUID Nr.: DE294160442\\nEUR\\nBIO RAHMSPINAT 2,79 B\\nSCHWARZE BOHNEN 1,89 B\\nSCHW.BOHN.CHILI 1,99 B\\n--------------------------------------\\nSUMME EUR 6,67\\n======================================\\nGeg. American Express EUR 6,67\\nSteuer % Netto Steuer Brutto\\nB= 7,0% 6,23 0,44 6,67\\nGesamtbetrag 6,23 0,44 6,67\\nTSE-Signatur: Jr0wE7dOTbBcLQaHPGXrJsO5yP0990NbE\\nRfHn49ThcG3u6XhJv1lfXq4XVUkCLvILF\\nEZe2G3Gricgb1PU0aIleZVat0GBmUHTjw\\nXw/x7UsynGPPYcv919jPK4e5Iy676\\nTSE-Signaturzähler: 3519873\\nTSE-Transaktion: 1694272\\nTSE-Start: 2025-05-09T21:46:24.000\\nTSE-Stop: 2025-05-09T21:47:12.000\\nSeriennnummer Kasse: REWE:10:ff:e0:7e:63:e6:00\\n09.05.2025 21:47 Bon-Nr.:4572\\nMarkt:5101 Kasse:3 Bed.:432103\\n****************************************\\nEntdecke und aktiviere alle REWE Bonus-\\nVorteile jetzt in der REWE App!\\nAktuelles Bonus-Guthaben: 3,24 EUR\\nSammle noch mehr REWE Bonus-Guthaben\\nmit Coupons und weiteren Vorteilen\\n- gleich in der REWE App aktivieren!\\nKeine Rabatte oder Guthaben auf mit *\\ngekennzeichnete Produkte\\n****************************************\\nVielen Dank für Ihren Einkauf\\nSie haben Fragen?\\nAntworten gibt es unter www.rewe.de',\n",
       " 'REWE Ströbel oHG\\nFleiner Str. 26\\n74072 Heilbronn\\nUID Nr.: DE294160442\\nEUR\\nZITRONE 1,79 B\\n--------------------------------------\\nSUMME EUR 1,79\\n======================================\\nGeg. American Express EUR 1,79\\nSteuer % Netto Steuer Brutto\\nB= 7,0% 1,67 0,12 1,79\\nGesamtbetrag 1,67 0,12 1,79\\nTSE-Signatur: RXO/15sUD+Pqxt7/2FrZVgoPcyF2XlMAB\\noh4icvRLONR/1IbrseWVjWKDZNjX8jpFH\\nRbLCYjy7S+3BsEyGm1aYGnPK4AacK7tgs\\nsK5L8J5u9DSVPBhIFn5FeVfv1Lgyf\\nTSE-Signaturzähler: 2084782\\nTSE-Transaktion: 975081\\nTSE-Start: 2025-06-03T20:50:22.000\\nTSE-Stop: 2025-06-03T20:51:09.000\\nSeriennnummer Kasse: REWE:10:ff:e0:7e:64:60:00\\n03.06.2025 20:50 Bon-Nr.:7153\\nMarkt:5101 Kasse:4 Bed.:432104\\n****************************************\\nEntdecke und aktiviere alle REWE Bonus-\\nVorteile jetzt in der REWE App!\\nAktuelles Bonus-Guthaben: 3,24 EUR\\nSammle noch mehr REWE Bonus-Guthaben\\nmit Coupons und weiteren Vorteilen\\n- gleich in der REWE App aktivieren!\\nKeine Rabatte oder Guthaben auf mit *\\ngekennzeichnete Produkte\\n****************************************\\nVielen Dank für Ihren Einkauf\\nSie haben Fragen?\\nAntworten gibt es unter www.rewe.de']"
      ]
     },
     "execution_count": 20,
     "metadata": {},
     "output_type": "execute_result"
    }
   ],
   "source": [
    "# merge all docus\n",
    "string = []\n",
    "for each in df['document']:\n",
    "    string.append(each)\n",
    "\n",
    "string[:5]\n"
   ]
  },
  {
   "cell_type": "code",
   "execution_count": 21,
   "id": "e67644c0",
   "metadata": {},
   "outputs": [],
   "source": [
    "# create object\n",
    "tfidf = TfidfVectorizer()\n",
    "\n",
    "# get tf-df values\n",
    "result = tfidf.fit_transform(string)"
   ]
  },
  {
   "cell_type": "code",
   "execution_count": 22,
   "id": "339c886d",
   "metadata": {},
   "outputs": [
    {
     "name": "stdout",
     "output_type": "stream",
     "text": [
      "TF of \"26\" in document 1 is: 3\n"
     ]
    }
   ],
   "source": [
    "\n",
    "vectorizer = CountVectorizer()\n",
    "\n",
    "tf_matrix = vectorizer.fit_transform(string)\n",
    "words = vectorizer.get_feature_names_out()\n",
    "# get tf values\n",
    "# Say you want the TF of the word \"sentence\" in document 2 (index 1)\n",
    "doc_index = 1\n",
    "word = \"26\"\n",
    "\n",
    "# Get the column index of the word\n",
    "word_index = list(words).index(word)\n",
    "\n",
    "# Get TF count\n",
    "tf_value = tf_matrix[doc_index, word_index]\n",
    "\n",
    "print(f'TF of \"{word}\" in document {doc_index} is:', tf_value)"
   ]
  },
  {
   "cell_type": "code",
   "execution_count": 23,
   "id": "8b6b7740",
   "metadata": {},
   "outputs": [
    {
     "name": "stdout",
     "output_type": "stream",
     "text": [
      "\n",
      "idf values:\n",
      "26 : 1.3227733922630511\n"
     ]
    }
   ],
   "source": [
    "# get idf values\n",
    "print('\\nidf values:')\n",
    "for ele1, ele2 in zip(tfidf.get_feature_names_out(), tfidf.idf_):\n",
    "    if ele1==\"26\":\n",
    "        print(ele1, ':', ele2)"
   ]
  },
  {
   "cell_type": "code",
   "execution_count": 24,
   "id": "fca91227",
   "metadata": {},
   "outputs": [
    {
     "name": "stdout",
     "output_type": "stream",
     "text": [
      "\n",
      "Word indexes:\n",
      "{'rewe': 539, 'ströbel': 570, 'ohg': 510, 'fleiner': 383, 'str': 569, '26': 104, '74072': 226, 'heilbronn': 421, 'uid': 593, 'nr': 504, 'de294160442': 341, 'eur': 366, 'bio': 302, 'joghurt': 446, '39': 153, 'fusilli': 386, '49': 176, 'summe': 571, '88': 245, 'geg': 392, 'american': 282, 'express': 371, 'steuer': 566, 'netto': 496, 'brutto': 311, '63': 207, '25': 101, 'gesamtbetrag': 396, 'tse': 588, 'signatur': 559, 'r01clqa9ubtqlg': 531, 'crmwlk1bxla': 328, 'kbv9': 455, 'h4c0hwct6zyxya871pkkpt6oghlmdozrh': 413, 't4yivublyuahc': 573, 'vg': 599, 'n35owysuc': 491, 'hvv': 429, 'yb': 615, '8ldfncxvtqmhfysklpvyxcvijvn': 250, 'signaturzähler': 560, '3501987': 141, 'transaktion': 585, '1685570': 51, 'start': 565, '2025': 71, '05': 13, '03t18': 9, '44': 168, '27': 108, '000': 1, 'stop': 568, '42': 162, 'seriennnummer': 557, 'kasse': 454, '74': 225, '56': 192, '3c': 157, 'd7': 334, 'a9': 273, '85': 243, '00': 0, '03': 7, '18': 62, 'bon': 308, '6040': 202, 'markt': 478, '5101': 182, 'bed': 298, '4444': 169, 'entdecke': 361, 'und': 594, 'aktiviere': 277, 'alle': 280, 'bonus': 309, 'vorteile': 603, 'jetzt': 444, 'in': 439, 'der': 344, 'app': 288, 'aktuelles': 279, 'guthaben': 410, '24': 96, 'sammle': 550, 'noch': 503, 'mehr': 482, 'mit': 487, 'coupons': 326, 'weiteren': 607, 'vorteilen': 604, 'gleich': 399, 'aktivieren': 278, 'keine': 456, 'rabatte': 533, 'oder': 507, 'auf': 290, 'gekennzeichnete': 394, 'produkte': 517, 'vielen': 600, 'dank': 337, 'für': 387, 'ihren': 436, 'einkauf': 356, 'sie': 558, 'haben': 415, 'fragen': 384, 'antworten': 286, 'gibt': 398, 'es': 363, 'unter': 595, 'www': 608, 'de': 340, 'rahmspinat': 534, '99': 271, 'schw': 552, 'bohn': 306, 'chili': 318, '98': 270, '72': 223, 'jsmo1c3qzm6ffuujpbuih8ybtqxv8p1x9': 452, 'mynmbnpjnhpk5k705u': 489, 'ge2bmmmw3jhydz': 391, 'euz3jc4ywlby': 368, 'ktfsy67mmgjsygpzk5og': 463, 'awhhdikqv8srhygsf1895lm': 292, '7sy': 236, '3506038': 142, '1687512': 52, '05t19': 14, '58': 195, '48': 175, '59': 197, '35': 139, '10': 29, 'ff': 379, 'e0': 350, '7e': 234, 'e6': 352, '19': 63, '3921': 155, '432103': 164, 'etzelstr': 364, '74076': 227, 'tel': 578, '07131': 18, '177241': 61, 'de812706034': 342, 'banane': 295, 'chiquita': 320, '11': 33, '556': 191, 'kg': 457, 'apfel': 287, 'rot': 545, '82': 239, '610': 204, 'avocado': 291, 'anger': 285, 'salatgurke': 549, '69': 216, 'naturjogh': 494, '89': 248, '90': 251, '51': 181, 'ggbai': 397, '2w3izgriol9mpqlu6ktth6lmqqc': 125, 'ezxlzrt6': 373, 'qcxidkyijsatkaefabrlusx0': 524, 'rf9ejihhera2ktohppy3wfssmxzt0bbw9': 540, 't52geax4mpeesbeqtlwp5vhcdyzf4': 574, '2367699': 93, '1117117': 34, '08t14': 22, '02': 5, '28': 113, 'b4': 294, '2e': 119, '0b': 26, '6c': 218, '08': 21, '14': 43, '2618': 105, '0190': 3, '242424': 98, 'gmbh': 401, '79': 233, 'schwarze': 553, 'bohnen': 307, '67': 212, '23': 92, 'jr0we7dotbbclqahpgxrjso5yp0990nbe': 450, 'rfhn49thcg3u6xhjv1lfxq4xvukclvilf': 541, 'eze2g3gricgb1pu0ailezvat0gbmuhtjw': 372, 'xw': 613, 'x7usyngppycv919jpk4e5iy676': 610, '3519873': 143, '1694272': 53, '09t21': 25, '46': 172, '47': 173, '12': 36, '09': 24, '21': 84, '4572': 171, 'zitrone': 626, 'rxo': 547, '15sud': 45, 'pqxt7': 516, '2frzvgopcyf2xlmab': 120, 'oh4icvrlonr': 509, '1ibrsewvjwkdznjx8jpfh': 66, 'rblcyjy7s': 537, '3bseygm1aygnpk4aack7tgs': 156, 'sk5l8j5u9dsvpbhifn5fevfv1lgyf': 561, '2084782': 80, '975081': 268, '06': 15, '03t20': 10, '50': 180, '22': 88, '64': 208, '60': 201, '20': 69, '7153': 222, '432104': 165, 'koenigsgem': 460, 'tk': 580, 'kokosm': 461, 'cremig': 327, 'kichererbsen': 458, '57': 194, '01': 2, 'gbxcgv': 390, 'nkx7vqtpn7kxl8kggf4': 500, 'f6pl8g': 375, 'qgg6wsntcqgsk1xgy': 525, 'tulkbepibaaonht': 589, 'qh28ztrpvinhtsqvwminhwfycxg': 526, 'im9r1': 438, 'odruuagqmpww1vuwsbao11hwfbao9': 508, '3575817': 147, '1721482': 58, '28t20': 115, '34': 137, '07': 17, '62': 205, '4730': 174, '432105': 166, 'milka': 485, 'luflee': 472, '90g': 252, '32': 131, '16': 47, 'hpdpfbxmmqgs7y6y55hwjl': 426, 'ekako': 357, '2joq': 122, 'd9ulbwcjo80j3kaey3reddofz0k1tm': 336, 'zb': 624, 'oyjwt6dzbxg2hphy02n': 512, 'tb9vqwccjgljz': 577, 'uslgpzmpd9dh9dez1xsqxwoltxzy7': 596, '3599089': 148, '1732769': 59, '06t08': 16, '52': 184, '04': 11, '5514': 190, 'deine': 343, 'heute': 422, 'diesem': 345, 'hast': 417, 'du': 348, 'gesammelt': 395, 'aktion': 276, 'en': 360, 'minze': 486, '97': 261, 'gn30ehtgpfyaz0ediegeablepj3': 403, 'lzxyo': 475, '2k03etgz3l07': 123, 'd7vbqsaj': 335, 'zqjjhtrrab7': 627, 'u5czfkbpxlzsqqeual2z': 590, 'ytlvu0gpmoib': 620, 'fed4': 378, 'fa9czplrpnx2xprvxxqtzx8': 377, '2079415': 77, '972682': 265, '27t19': 112, '6216': 206, '392': 154, '92': 254, 'azgqqhmkn': 293, 'evxatp': 370, 'mn': 488, 'jdf': 443, 'acqtdm0cr': 275, 'ssfu4nyfdans4vgjz8x9k4uu5isprb7nx': 564, 'fjc6': 381, 'fip': 380, 'iifq4sxs9l20vnrsi0syhvk0': 437, 'golagx9': 404, '6wk0jec': 219, '212zh2lp': 86, 'amqw': 284, '3604317': 150, '1735331': 60, '07t17': 20, '54': 187, '17': 54, '7758': 231, '212121': 85, 'jonagold': 448, 'erdbeere': 362, 'bw': 313, '516': 183, '78': 232, '15': 44, '53': 186, 'hut': 428, 'yg2ryyy8nbruxs': 618, 'hevl9uvdlec4rr': 423, 'r69dfpzlqctwoy8s288nqvhxvy5qzboer': 532, 'iojg1jvm3zff0zqa8hpvpmt6bg2kwooee': 441, 'q6zblzb6yolz5brqnr0iidycibdzi': 522, '2759430': 110, '1326644': 40, '24t14': 99, '55': 189, '2374': 94, 'saft': 548, 'citrus': 321, 'pfand': 514, 'euro': 367, '94': 256, 'bzv': 315, 'qlsgglhtdo5dvf0lmm766jufwsf8n': 528, 'hb': 419, 'nl7': 502, '4zva3wo5xzzc15lwhc': 179, 'bk4gp': 303, 'w2ozmsd4xz6mv': 605, 'pvhtcizbmcucrlicvsa': 518, 'emnhokyt': 359, 'vlvnf9fkhdgurb': 601, 'q1wnk': 521, '2779808': 111, '1336267': 41, '07t16': 19, '41': 161, '8350': 241, 'zuckermais': 630, 'gurke': 409, 'xy825ixo99ievfbg3ik': 614, '4u5bhqvyulfg3': 177, 'w8apvmmb1s4xj6l1k': 606, 'e04uoomotixzjg': 351, 'qqqrpdu82n07tdlezthliwywlzct': 529, '1km': 67, 'hb2ubyb5t': 420, 'lnger2fcfjzavffab94': 469, '3565305': 146, '1716385': 56, '24t20': 100, '7102': 221, '334': 135, 'zwiebel': 632, 'champignon': 316, 'br': 310, 'ja': 442, 'basmati': 297, 'reis': 538, '71': 220, '75': 228, 'zz7x66kri5xguslkwtitsbqfuww': 633, 'eumk0': 365, 'jpcoqy1ddoia6edqnnwpup30mzlcw3bif': 449, 'niasksrtgjlpdbrrrf4o65zdoq4r1c6x4': 498, 'iewuvkwyyfek0xj4h4gspfsunk7d0': 435, '3561650': 145, '1714594': 55, '23t20': 95, '31': 128, '6849': 214, 'buttergemuese': 312, 'meersalz': 481, 'grob': 408, 'rapsoel': 535, 'meyx0zkuoclf2x8trqtrklouw7aytjstx': 483, '1b7m14hhmuqhhhvjjd9koli0du8hi2': 65, 'tm': 581, 'z8p80n': 623, 'nkzortqsj1jttllidkbsslcmds': 501, 'hs3tmeletjiufoo0zxtno3mmqemod': 427, '2075006': 76, '970718': 264, '21t20': 87, '5452': 188, 'naturreis': 495, '77': 230, '33': 134, 'tgrcmy2cic2v21lg5uhoowiicuxgiaiqd': 579, 'trwduior6lolzjwg7p9aypnkcprue36yi': 587, 'pxf71b': 519, 'rocjcllhkyyzxp31y9dbdybhmk': 544, 'zuwvblxop6': 631, 'xmalit6rjvv48pkbsn': 611, '2073721': 74, '970131': 262, '20t10': 82, '20t11': 83, '5204': 185, 'eier': 355, 'bh': 301, 'haf': 416, 'soja': 563, 'dri': 346, '86': 244, '13': 39, '45': 170, 'pkt': 515, 'qqrxwmknmuro3iz1arzxvtuzz': 530, 'sdb': 555, 'naourliybdcev7mqolx7jf3q3r': 492, 'm5tsjj': 476, 'cxcxmaght2jm6i0mo2em8y5cuhsxrn': 331, 'n0': 490, '5wmmdalboabbq4dcdumeqsq4nlzj1': 200, '2073732': 75, '970135': 263, '43': 163, 'a2': 272, '2734': 109, '432106': 167, 'triple': 586, 'orange': 511, '84': 242, '83': 240, 'ammfn7ewtht0r': 283, '4xdoto8ybtrjz9vi': 178, '2c': 118, 'gyemrscgya': 412, 'q7bouwpme8chrt1yto3kj5': 523, 'ritvliow': 543, 'yxv07bju': 621, 'mbf5bymoht9h31q': 480, 'lte4bc3my5ykjkwed3kw2': 471, 'evhau4l': 369, '2419248': 97, '1142001': 35, '30t17': 127, 'e7': 353, '30': 126, '5819': 196, '323232': 133, 'freilandh': 385, '73': 224, 'lrluupi37t8plocyv': 470, 'o3bzectlajzgxnh': 505, '5t0g7wwfjda3rnw9ei2ngymlsby0zexbo': 199, 'q0csxzqzu': 520, 'sy2e6yjjw': 572, 'cwsgnultxzfn': 330, 'das5i98bdrftdogtaqsiyiyyxygz2': 338, '2083962': 79, '974712': 267, '02t20': 6, '6977': 217, 'tofu': 582, 'natur': 493, 'boden': 305, 'jogurt': 447, 'rote': 546, 'linsen': 468, '65': 209, 'gr': 406, 'papiertasche': 513, '81': 238, 'csqno0kochkjaom7dtzmtwnnsrtkf5e2c': 329, 'zuc8kj0hnittdyiky3aux6vdmhwbajuwc': 629, 'hi0zwasvjbv5poiqhqvgh2ohmvy307qmm': 425, 'gaw13q0f8fsb3jw': 388, 'hi': 424, 'luujr9pzi0': 473, '2631407': 106, '1265984': 37, '01t14': 4, '6569': 210, '101010': 30, '80': 237, 'coupon': 325, 'ingwer': 440, '38': 152, '038': 8, 'knoblauch': 459, 'cherryromatomate': 317, 'stk': 567, '61': 203, 'cy3h1v0': 332, 'xumcewsp0cg8mtcez1ynhr': 612, 'wy': 609, 'yezeu9rlukuoaehb5tdcocbdtqgsaxiep': 617, 'dtahhk8tsy18nwovzus6tn': 347, 'yczg2dwj': 616, '76': 229, 'ckydrhgesiw2ov': 323, '1rnltrfjmx0': 68, '3397308': 136, '1635637': 49, '04t08': 12, '2095': 81, '161616': 48, 'mandarine': 477, '288': 114, '320': 132, '350': 140, '66': 211, 'rayvkutxupayhau3ot9pqton9jevedrba': 536, 'cyrizbpo': 333, 'yycogtb': 622, 'ubqvznc': 591, 'jsapucdq': 451, 'gqgd793abwrnaaqs8dzq8glle': 405, '2ftgvwk': 121, 'ris3rkghx1dl': 542, 'idwgb2mifncptsj3': 433, '2641277': 107, '1270637': 38, '08t16': 23, '9160': 253, '313131': 129, 'elstar': 358, 'sanl': 551, 'lac': 465, 'alpenjodsalz': 281, 'h861col8hmovkwh8fsc2cxjrdetfc4cje': 414, 'f7qw7wwi4a': 376, 'ciywl613kjj6cjn1upggh3': 322, 'eafbae9lh8rsqtkwog91wlsf5pl7ehzhv': 354, 'lzwm6gwcg7diph5se3l4ubd9': 474, 'iewc': 434, '1984843': 64, '928389': 255, '13t20': 42, 'ac': 274, '8d': 249, '2023': 70, '95': 258, '96': 260, 'tarodekrzvhw2wc6a6rcwsynwut': 576, 'gmv5r': 402, 'ztozcizc': 628, 'qkmt9mcq2qgb02gntcvbudj': 527, '0octkgeu0': 27, 'lgynqebquehemgw9ry3uw6': 467, 'vfn': 598, 'mbf1xcz7herlzrguzyhsyorhi': 479, '2230608': 90, '1050718': 31, '15t14': 46, '2506': 102, '171717': 57, 'banderole': 296, '976': 269, '562': 193, 'jog': 445, 'grie': 407, 'art': 289, 'toipa': 583, '3lg': 158, 'f2mfoce': 374, 'ta0wby7setviiwxrt6cwj4f2w': 575, 'bwaujzcwo9fejwwsrbh8ke8qpkjbers': 314, 'hx9dqswrovs8nnmppklty': 430, 'dyeik8isdef': 349, 'vmrof233chm1j8qaulfu5tumcw162': 602, '2026630': 72, '948687': 257, '8862': 247, '222222': 89, 'berglinsen': 300, 'beluga': 299, 'kokosmilch': 462, 'chilibohnen': 319, 'milde': 484, 'seife': 556, 'fl': 382, 'topfreiniger': 584, 'haushaltshands': 418, 'nfbh00po8zqhvxvws1bf6ov': 497, '2sctih0pt': 124, 'gx3hjqs7cbwgks6rzozd95ouge2cvnsys': 411, 'cnmsybacd7yqfk2ittdckibssyg0o24bd': 324, 'gbnq': 389, '0uvcvacnyd0d6': 28, 'gek': 393, 'zgacu5': 625, '2270103': 91, '1069898': 32, '29t21': 117, '29': 116, '6881': 215, '353535': 144, 'ddlpfwpefgesb3rh': 339, 'snv0nmkdnn99y': 562, 'yqp9qhzwianndhooesba0kvfgwlc': 619, 'bnsl': 304, 'le9ldscib851gkqhut9qf0dniylcpicmb': 466, '5qfbj9xbha1ehak': 198, '7hbidnz': 235, 'oaoh': 506, '2030179': 73, '950419': 259, '40': 160, '371': 151, 'nkqae36oy3i3itw4m23996mfriwxyo6jh': 499, 'iaidf4pkf6vfltuuid5tvmfzcoogau8el': 431, '3qxwc7t98gas7ixtaw592ienphvbezn2w': 159, 'scy2a3vynuzdsd6wy': 554, 'ibjvn61gb0v': 432, '2082914': 78, '974268': 266, '31t21': 130, '36': 149, '6841': 213, 'glzk4ekhdx91sls9f02t3ypql2mttyu1f': 400, 'utqunoitoq9kqq5qdzknpgdvfilotxlre': 597, 'ugf3hjcuy292donafbdkkw05intwenuzx': 592, 'l77mbl7dujltrmncwl': 464, 'k8dujhvv9o': 453, '3479357': 138, '1674573': 50, '25t19': 103, '8804': 246}\n"
     ]
    }
   ],
   "source": [
    "# get indexing\n",
    "print('\\nWord indexes:')\n",
    "print(tfidf.vocabulary_)\n"
   ]
  },
  {
   "cell_type": "code",
   "execution_count": null,
   "id": "b5417ebf",
   "metadata": {},
   "outputs": [
    {
     "name": "stdout",
     "output_type": "stream",
     "text": [
      "\n",
      "tf-idf value:\n",
      "<Compressed Sparse Row sparse matrix of dtype 'float64'\n",
      "\twith 112 stored elements and shape (1, 634)>\n",
      "  Coords\tValues\n",
      "  (0, 539)\t0.2299405601322187\n",
      "  (0, 570)\t0.043451322106423\n",
      "  (0, 510)\t0.043451322106423\n",
      "  (0, 383)\t0.043451322106423\n",
      "  (0, 569)\t0.043451322106423\n",
      "  (0, 104)\t0.043451322106423\n",
      "  (0, 226)\t0.043451322106423\n",
      "  (0, 421)\t0.03284865144745981\n",
      "  (0, 593)\t0.03284865144745981\n",
      "  (0, 504)\t0.06569730289491962\n",
      "  (0, 341)\t0.043451322106423\n",
      "  (0, 366)\t0.13139460578983925\n",
      "  (0, 302)\t0.10476795588631571\n",
      "  (0, 446)\t0.06469215246350515\n",
      "  (0, 153)\t0.075152928079161\n",
      "  (0, 386)\t0.10737184634081555\n",
      "  (0, 176)\t0.05677030411677471\n",
      "  (0, 571)\t0.03284865144745981\n",
      "  (0, 245)\t0.48276331340466905\n",
      "  (0, 392)\t0.03284865144745981\n",
      "  (0, 282)\t0.03284865144745981\n",
      "  (0, 371)\t0.03284865144745981\n",
      "  (0, 566)\t0.06569730289491962\n",
      "  (0, 496)\t0.03284865144745981\n",
      "  (0, 311)\t0.03284865144745981\n",
      "  :\t:\n",
      "  (0, 326)\t0.03284865144745981\n",
      "  (0, 607)\t0.03284865144745981\n",
      "  (0, 604)\t0.03284865144745981\n",
      "  (0, 399)\t0.03284865144745981\n",
      "  (0, 278)\t0.03284865144745981\n",
      "  (0, 456)\t0.03284865144745981\n",
      "  (0, 533)\t0.03284865144745981\n",
      "  (0, 507)\t0.03284865144745981\n",
      "  (0, 290)\t0.03284865144745981\n",
      "  (0, 394)\t0.03284865144745981\n",
      "  (0, 517)\t0.03284865144745981\n",
      "  (0, 600)\t0.043451322106423\n",
      "  (0, 337)\t0.043451322106423\n",
      "  (0, 387)\t0.043451322106423\n",
      "  (0, 436)\t0.043451322106423\n",
      "  (0, 356)\t0.04192320232750202\n",
      "  (0, 558)\t0.03284865144745981\n",
      "  (0, 415)\t0.03284865144745981\n",
      "  (0, 384)\t0.03284865144745981\n",
      "  (0, 286)\t0.03284865144745981\n",
      "  (0, 398)\t0.03284865144745981\n",
      "  (0, 363)\t0.03284865144745981\n",
      "  (0, 595)\t0.03284865144745981\n",
      "  (0, 608)\t0.03284865144745981\n",
      "  (0, 340)\t0.03284865144745981\n"
     ]
    }
   ],
   "source": [
    "# display tf-idf values\n",
    "print('\\ntf-idf value:')\n",
    "print(result)\n"
   ]
  },
  {
   "cell_type": "code",
   "execution_count": 30,
   "id": "78d8a11e",
   "metadata": {},
   "outputs": [
    {
     "name": "stdout",
     "output_type": "stream",
     "text": [
      "\n",
      "tf-idf values in matrix form:\n",
      "[[0.03284865 0.0656973  0.         ... 0.         0.         0.        ]\n",
      " [0.03706439 0.07412878 0.         ... 0.         0.         0.        ]\n",
      " [0.03069027 0.06138054 0.         ... 0.         0.         0.        ]\n",
      " [0.03516989 0.07033978 0.         ... 0.         0.         0.        ]\n",
      " [0.03528713 0.07057427 0.         ... 0.         0.         0.        ]]\n"
     ]
    }
   ],
   "source": [
    "# in matrix form\n",
    "print('\\ntf-idf values in matrix form:')\n",
    "print(result.toarray()[:5])"
   ]
  },
  {
   "cell_type": "code",
   "execution_count": null,
   "id": "bb51c93d",
   "metadata": {},
   "outputs": [],
   "source": []
  }
 ],
 "metadata": {
  "kernelspec": {
   "display_name": ".venv",
   "language": "python",
   "name": "python3"
  },
  "language_info": {
   "codemirror_mode": {
    "name": "ipython",
    "version": 3
   },
   "file_extension": ".py",
   "mimetype": "text/x-python",
   "name": "python",
   "nbconvert_exporter": "python",
   "pygments_lexer": "ipython3",
   "version": "3.12.10"
  }
 },
 "nbformat": 4,
 "nbformat_minor": 5
}

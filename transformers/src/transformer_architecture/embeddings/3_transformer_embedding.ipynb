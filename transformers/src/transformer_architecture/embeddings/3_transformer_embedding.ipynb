{
 "cells": [
  {
   "cell_type": "markdown",
   "id": "d5ac9515",
   "metadata": {},
   "source": []
  }
 ],
 "metadata": {
  "language_info": {
   "name": "python"
  }
 },
 "nbformat": 4,
 "nbformat_minor": 5
}

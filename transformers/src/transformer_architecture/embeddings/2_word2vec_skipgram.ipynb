{
 "cells": [
  {
   "cell_type": "markdown",
   "id": "91b98c1e",
   "metadata": {},
   "source": [
    "#### Static Word Embedding\n",
    "### **word2vec**\n",
    "\n",
    "there are two variants in word2vec models\n",
    "\n",
    "[to prepare embedding layers weights training\n",
    "two variants varies in their datapipeline, other than model architecture and training are mostly similar]: #\n",
    "\n",
    "+ continuous bag of words [CBOW] \n",
    "    - trying to minimize the loss function for given training sample prepared using the target word and neighboring words (context)\n",
    "+ continuous skipgram\n",
    "    - opposite to CBOW, trying to find the best parameters of embedding layers for given the neighboring words (context) and target word[a bit unclear, will be updated soon]\n",
    "\n",
    "Sources:\n",
    "- [Good Starting Point - Word2Vec - Tensorflow](https://www.tensorflow.org/text/tutorials/word2vec)\n",
    "- [Great Source On NLP - Standford](https://web.stanford.edu/class/cs224n/)\n",
    "- [Maths behind Word2Vec](https://web.stanford.edu/class/cs224n/readings/cs224n-2019-notes01-wordvecs1.pdf)\n",
    "- [Candidate Sampling - Negative Sampling](https://www.tensorflow.org/extras/candidate_sampling.pdf)\n",
    "- [Not important - tf.data.Dataset](https://blog.tensorflow.org/2019/02/introducing-tensorflow-datasets.html?_gl=1*1jlc6kv*_ga*MTMyODM2NTQ2Ni4xNzU0NDU3MzI4*_ga_W0YLR4190T*czE3NTUxNzE2MjckbzkkZzEkdDE3NTUxNzE2OTkkajU5JGwwJGgw)"
   ]
  },
  {
   "cell_type": "code",
   "execution_count": 1,
   "id": "f45f180e",
   "metadata": {},
   "outputs": [],
   "source": [
    "import io\n",
    "import re\n",
    "from tqdm import tqdm\n",
    "import string\n",
    "import random\n",
    "\n",
    "import numpy as np\n",
    "\n",
    "import tensorflow as tf\n",
    "from tensorflow.keras import layers"
   ]
  },
  {
   "cell_type": "markdown",
   "id": "f3973dfc",
   "metadata": {},
   "source": [
    "# <font color=\"pink\"> Skipgram </font>"
   ]
  },
  {
   "cell_type": "markdown",
   "id": "ac59eae5",
   "metadata": {},
   "source": [
    "## <font color=\"brown\"> Own Implementation</font>\n",
    "only for single sentence and can be scaled, however little bit preparation is necessary before"
   ]
  },
  {
   "cell_type": "code",
   "execution_count": 12,
   "id": "b5f23e8c",
   "metadata": {},
   "outputs": [
    {
     "data": {
      "text/plain": [
       "['the',\n",
       " 'wind',\n",
       " 'has',\n",
       " 'four',\n",
       " 'directions',\n",
       " 'and',\n",
       " 'the',\n",
       " 'sun',\n",
       " 'raises',\n",
       " 'in',\n",
       " 'one']"
      ]
     },
     "execution_count": 12,
     "metadata": {},
     "output_type": "execute_result"
    }
   ],
   "source": [
    "example = \"The Wind has four directions and the Sun raises in one\"\n",
    "tokens = example.lower().split()\n",
    "tokens"
   ]
  },
  {
   "cell_type": "code",
   "execution_count": 30,
   "id": "dbe651fa",
   "metadata": {},
   "outputs": [
    {
     "data": {
      "text/plain": [
       "{'<pad>': 0,\n",
       " 'the': 1,\n",
       " 'wind': 2,\n",
       " 'has': 3,\n",
       " 'four': 4,\n",
       " 'directions': 5,\n",
       " 'and': 6,\n",
       " 'sun': 7,\n",
       " 'raises': 8,\n",
       " 'in': 9,\n",
       " 'one': 10}"
      ]
     },
     "execution_count": 30,
     "metadata": {},
     "output_type": "execute_result"
    }
   ],
   "source": [
    "# encoding\n",
    "vocab, index = {}, 1\n",
    "vocab['<pad>'] = 0\n",
    "for token in tokens:\n",
    "    if token not in vocab:\n",
    "        vocab[token] = index\n",
    "        index += 1\n",
    "vocab"
   ]
  },
  {
   "cell_type": "code",
   "execution_count": 14,
   "id": "13a4e7bb",
   "metadata": {},
   "outputs": [
    {
     "data": {
      "text/plain": [
       "{0: '<pad>',\n",
       " 1: 'the',\n",
       " 2: 'wind',\n",
       " 3: 'has',\n",
       " 4: 'four',\n",
       " 5: 'directions',\n",
       " 6: 'and',\n",
       " 7: 'sun',\n",
       " 8: 'raises',\n",
       " 9: 'in',\n",
       " 10: 'one'}"
      ]
     },
     "execution_count": 14,
     "metadata": {},
     "output_type": "execute_result"
    }
   ],
   "source": [
    "# decoding\n",
    "inverse_vocab = {v: k for k, v in vocab.items()}\n",
    "inverse_vocab"
   ]
  },
  {
   "cell_type": "code",
   "execution_count": 15,
   "id": "1602bd6c",
   "metadata": {},
   "outputs": [],
   "source": [
    "# common for positive and negative pairs\n",
    "window_size = 2\n",
    "target_index = 7"
   ]
  },
  {
   "cell_type": "code",
   "execution_count": 16,
   "id": "83e5f919",
   "metadata": {},
   "outputs": [
    {
     "name": "stderr",
     "output_type": "stream",
     "text": [
      "0it [00:00, ?it/s]\n",
      "0it [00:00, ?it/s]\n",
      "0it [00:00, ?it/s]\n",
      "0it [00:00, ?it/s]\n",
      "0it [00:00, ?it/s]\n",
      "0it [00:00, ?it/s]\n"
     ]
    },
    {
     "data": {
      "text/plain": [
       "[(7, 5), (7, 6), (7, 8), (7, 9)]"
      ]
     },
     "execution_count": 16,
     "metadata": {},
     "output_type": "execute_result"
    }
   ],
   "source": [
    "# positive context pairs\n",
    "positive_context_pairs = []\n",
    "c_word = 0\n",
    "while(tqdm(True)):\n",
    "    context_pos = (target_index-window_size)+c_word\n",
    "    if context_pos<1:\n",
    "        context_pos = 1\n",
    "        c_word += 1\n",
    "    if (context_pos>0 and context_pos<len(vocab)):\n",
    "        if (context_pos<(target_index-window_size) or context_pos>(target_index+window_size)):\n",
    "            break\n",
    "        if target_index!=context_pos:\n",
    "            positive_context_pairs.append((target_index, context_pos))\n",
    "        c_word += 1\n",
    "    else:\n",
    "        break\n",
    "\n",
    "positive_context_pairs"
   ]
  },
  {
   "cell_type": "code",
   "execution_count": 17,
   "id": "63fb278b",
   "metadata": {},
   "outputs": [
    {
     "name": "stdout",
     "output_type": "stream",
     "text": [
      "The Wind has four directions and the Sun raises in one || - target:  sun\n",
      "(7, 5) - (sun, directions)\n",
      "(7, 6) - (sun, and)\n",
      "(7, 8) - (sun, raises)\n",
      "(7, 9) - (sun, in)\n"
     ]
    }
   ],
   "source": [
    "print(example, '|| - target: ', inverse_vocab[target_index])\n",
    "for each in positive_context_pairs:\n",
    "    print(f\"{each} - ({inverse_vocab[each[0]]}, {inverse_vocab[each[1]]})\")"
   ]
  },
  {
   "cell_type": "code",
   "execution_count": 18,
   "id": "0b43baac",
   "metadata": {},
   "outputs": [
    {
     "name": "stderr",
     "output_type": "stream",
     "text": [
      "0it [00:00, ?it/s]\n",
      "0it [00:00, ?it/s]\n",
      "0it [00:00, ?it/s]\n",
      "0it [00:00, ?it/s]\n",
      "0it [00:00, ?it/s]\n",
      "0it [00:00, ?it/s]\n",
      "0it [00:00, ?it/s]\n",
      "0it [00:00, ?it/s]\n",
      "0it [00:00, ?it/s]\n",
      "0it [00:00, ?it/s]\n",
      "0it [00:00, ?it/s]\n",
      "0it [00:00, ?it/s]\n"
     ]
    },
    {
     "data": {
      "text/plain": [
       "[(7, 10), (7, 2), (7, 4), (7, 1), (7, 4)]"
      ]
     },
     "execution_count": 18,
     "metadata": {},
     "output_type": "execute_result"
    }
   ],
   "source": [
    "# negative context pairs\n",
    "# repeation is allowed\n",
    "num_n = 5 # number of negative pairs\n",
    "negative_context_pairs = []\n",
    "c_word = 0\n",
    "pos_range=[target_index-window_size, target_index+window_size]\n",
    "while(tqdm(True)):\n",
    "    context_pos = random.randint(0, len(vocab)-1) #len(vocab)-1, bcz it is inclusive\n",
    "    if context_pos<1: # padding is excluded\n",
    "        continue\n",
    "    # if (context_pos>0 and context_pos<len(vocab)):\n",
    "    if (context_pos<(target_index-window_size) or context_pos>(target_index+window_size)):\n",
    "        negative_context_pairs.append((target_index, context_pos))\n",
    "    \n",
    "    if len(negative_context_pairs)>num_n-1:\n",
    "        break\n",
    "    # c_word += 1\n",
    "    \n",
    "\n",
    "negative_context_pairs"
   ]
  },
  {
   "cell_type": "code",
   "execution_count": 19,
   "id": "d8863412",
   "metadata": {},
   "outputs": [
    {
     "name": "stdout",
     "output_type": "stream",
     "text": [
      "The Wind has four directions and the Sun raises in one || - target:  sun\n",
      "(7, 10) - (sun, one)\n",
      "(7, 2) - (sun, wind)\n",
      "(7, 4) - (sun, four)\n",
      "(7, 1) - (sun, the)\n",
      "(7, 4) - (sun, four)\n"
     ]
    }
   ],
   "source": [
    "print(example, '|| - target: ', inverse_vocab[target_index])\n",
    "for each in negative_context_pairs:\n",
    "    print(f\"{each} - ({inverse_vocab[each[0]]}, {inverse_vocab[each[1]]})\")"
   ]
  },
  {
   "cell_type": "code",
   "execution_count": null,
   "id": "d0fa4bb6",
   "metadata": {},
   "outputs": [
    {
     "data": {
      "text/plain": [
       "[1, 2, 3, 4, 5, 6, 1, 7, 8, 9, 10]"
      ]
     },
     "execution_count": 20,
     "metadata": {},
     "output_type": "execute_result"
    }
   ],
   "source": [
    "example_sequence = [vocab[word] for word in tokens]\n",
    "example_sequence"
   ]
  },
  {
   "cell_type": "markdown",
   "id": "237e52c0",
   "metadata": {},
   "source": [
    "## <font color=\"brown\">Tensorflow Example</font>\n",
    "#### Skipgram for 1 sentence"
   ]
  },
  {
   "cell_type": "code",
   "execution_count": null,
   "id": "71e2f3e8",
   "metadata": {},
   "outputs": [
    {
     "name": "stdout",
     "output_type": "stream",
     "text": [
      "38\n",
      "[[4, 5], [9, 7], [4, 3], [8, 10], [9, 8], [8, 1], [4, 6], [3, 1], [7, 6], [8, 7], [7, 8], [2, 4], [4, 2], [6, 1], [2, 3], [1, 8], [6, 7], [1, 6], [5, 1], [10, 9], [8, 9], [7, 1], [1, 2], [10, 8], [5, 3], [6, 5], [2, 1], [9, 10], [7, 9], [1, 7], [1, 5], [3, 2], [3, 5], [5, 4], [5, 6], [6, 4], [1, 3], [3, 4]]\n"
     ]
    }
   ],
   "source": [
    "window_size = 2\n",
    "positive_skip_grams = tf.keras.preprocessing.sequence.skipgrams(\n",
    "    example_sequence,\n",
    "    vocabulary_size=len(vocab),  # vocal={'word': 1, 'sun': 2} etc, see above\n",
    "    window_size=window_size,\n",
    "    negative_samples=0,\n",
    "    seed=42\n",
    ")\n",
    "print(len(positive_skip_grams[0]))\n",
    "print(positive_skip_grams[0][:10])"
   ]
  },
  {
   "cell_type": "code",
   "execution_count": 38,
   "id": "4c55c8d1",
   "metadata": {},
   "outputs": [
    {
     "name": "stdout",
     "output_type": "stream",
     "text": [
      "(4, 5): (four, directions)\n",
      "(9, 7): (in, sun)\n",
      "(4, 3): (four, has)\n",
      "(8, 10): (raises, one)\n",
      "(9, 8): (in, raises)\n"
     ]
    }
   ],
   "source": [
    "for target, context in positive_skip_grams[0][:5]:\n",
    "  print(f\"({target}, {context}): ({inverse_vocab[target]}, {inverse_vocab[context]})\")"
   ]
  },
  {
   "cell_type": "code",
   "execution_count": null,
   "id": "3084afcf",
   "metadata": {},
   "outputs": [
    {
     "name": "stdout",
     "output_type": "stream",
     "text": [
      "LogUniformCandidateSampler(sampled_candidates=<tf.Tensor: shape=(4,), dtype=int64, numpy=array([3, 1, 0, 8])>, true_expected_count=<tf.Tensor: shape=(1, 1), dtype=float32, numpy=array([[0.27400503]], dtype=float32)>, sampled_expected_count=<tf.Tensor: shape=(4,), dtype=float32, numpy=array([0.3752803 , 0.58962286, 0.8050837 , 0.19476941], dtype=float32)>)\n",
      "['has', 'the', '<pad>', 'raises']\n"
     ]
    }
   ],
   "source": [
    "target_word, context_word = positive_skip_grams[0][0]\n",
    "# print(target_word, context_word)\n",
    "num_ns = 4\n",
    "\n",
    "context_class = tf.reshape(tf.constant(context_word, dtype=\"int64\"), (1, 1))\n",
    "# print(context_word)\n",
    "negative_sampling_candidates=tf.random.log_uniform_candidate_sampler(\n",
    "    true_classes=context_class,\n",
    "    num_true=1,\n",
    "    num_sampled=num_ns,\n",
    "    unique=True,\n",
    "    range_max=len(vocab),\n",
    "    seed=42,\n",
    "    name='negative_sampling'\n",
    ")\n",
    "# print(negative_sampling_candidates)\n",
    "print([inverse_vocab[index.numpy()] for index in negative_sampling_candidates[0]])"
   ]
  },
  {
   "cell_type": "code",
   "execution_count": 58,
   "id": "f83a1314",
   "metadata": {},
   "outputs": [],
   "source": [
    "# now prepare an tuple of one single training example\n",
    "\n",
    "squeezed_context_class = tf.squeeze(context_class, 1)\n",
    "\n",
    "context = tf.concat([squeezed_context_class, negative_sampling_candidates[0]], 0)\n",
    "\n",
    "label = tf.constant([1]+[0]*num_ns, dtype=\"int64\")\n",
    "\n",
    "target = target_word"
   ]
  },
  {
   "cell_type": "code",
   "execution_count": 59,
   "id": "94bce4f8",
   "metadata": {},
   "outputs": [
    {
     "name": "stdout",
     "output_type": "stream",
     "text": [
      "target_index    : 4\n",
      "target_word     : four\n",
      "context_indices : [5 3 1 0 8]\n",
      "context_words   : ['directions', 'has', 'the', '<pad>', 'raises']\n",
      "label           : [1 0 0 0 0]\n"
     ]
    }
   ],
   "source": [
    "print(f\"target_index    : {target}\")\n",
    "print(f\"target_word     : {inverse_vocab[target_word]}\")\n",
    "print(f\"context_indices : {context}\")\n",
    "print(f\"context_words   : {[inverse_vocab[c.numpy()] for c in context]}\")\n",
    "print(f\"label           : {label}\")"
   ]
  },
  {
   "cell_type": "code",
   "execution_count": 60,
   "id": "8ff73fff",
   "metadata": {},
   "outputs": [
    {
     "name": "stdout",
     "output_type": "stream",
     "text": [
      "target  : 4\n",
      "context : tf.Tensor([5 3 1 0 8], shape=(5,), dtype=int64)\n",
      "label   : tf.Tensor([1 0 0 0 0], shape=(5,), dtype=int64)\n"
     ]
    }
   ],
   "source": [
    "print(\"target  :\", target)\n",
    "print(\"context :\", context)\n",
    "print(\"label   :\", label)"
   ]
  },
  {
   "cell_type": "code",
   "execution_count": null,
   "id": "fe666275",
   "metadata": {},
   "outputs": [
    {
     "name": "stdout",
     "output_type": "stream",
     "text": [
      "[0.00315225 0.00315225 0.00547597 0.00741556 0.00912817 0.01068435\n",
      " 0.01212381 0.01347162 0.01474487 0.0159558 ]\n"
     ]
    }
   ],
   "source": [
    "# sampling_table[i] denotes the probability of sampling the i-th most common word in a dataset. \n",
    "# The function assumes a Zipf's distribution of the word frequencies for sampling\n",
    "sampling_table = tf.keras.preprocessing.sequence.make_sampling_table(size=10)\n",
    "print(sampling_table)"
   ]
  },
  {
   "cell_type": "code",
   "execution_count": 65,
   "id": "07b63168",
   "metadata": {},
   "outputs": [
    {
     "name": "stdout",
     "output_type": "stream",
     "text": [
      "[0.00315225 0.00315225 0.00547597 0.00741556 0.00912817 0.01068435\n",
      " 0.01212381 0.01347162 0.01474487 0.0159558  0.0171136  0.01822533\n",
      " 0.01929662 0.02033198 0.02133515 0.02230924 0.02325687 0.02418031\n",
      " 0.02508148 0.02596208]\n"
     ]
    }
   ],
   "source": [
    "sampling_table = tf.keras.preprocessing.sequence.make_sampling_table(size=20)\n",
    "print(sampling_table)"
   ]
  },
  {
   "cell_type": "markdown",
   "id": "5e83e907",
   "metadata": {},
   "source": [
    "#### Generating Training Data"
   ]
  },
  {
   "cell_type": "code",
   "execution_count": 99,
   "id": "e4698ae0",
   "metadata": {},
   "outputs": [],
   "source": [
    "# Generates skip-gram pairs with negative sampling for a list of sequences\n",
    "# (int-encoded sentences) based on window size, number of negative samples\n",
    "# and vocabulary size.\n",
    "def generate_training_data(sequences, window_size, num_ns, vocab_size, seed):\n",
    "  # Elements of each training example are appended to these lists.\n",
    "  targets, contexts, labels = [], [], []\n",
    "\n",
    "  # Build the sampling table for `vocab_size` tokens.\n",
    "  sampling_table = tf.keras.preprocessing.sequence.make_sampling_table(vocab_size)\n",
    "\n",
    "  # Iterate over all sequences (sentences) in the dataset.\n",
    "  for sequence in tqdm(sequences):\n",
    "\n",
    "    # Generate positive skip-gram pairs for a sequence (sentence).\n",
    "    positive_skip_grams, _ = tf.keras.preprocessing.sequence.skipgrams(\n",
    "          sequence,\n",
    "          vocabulary_size=vocab_size,\n",
    "          sampling_table=sampling_table,\n",
    "          window_size=window_size,\n",
    "          negative_samples=0,\n",
    "          seed=42)\n",
    "\n",
    "    # Iterate over each positive skip-gram pair to produce training examples\n",
    "    # with a positive context word and negative samples.\n",
    "    for target_word, context_word in positive_skip_grams:\n",
    "      context_class = tf.expand_dims(\n",
    "          tf.constant([context_word], dtype=\"int64\"), 1)\n",
    "      negative_sampling_candidates, _, _ = tf.random.log_uniform_candidate_sampler(\n",
    "          true_classes=context_class,\n",
    "          num_true=1,\n",
    "          num_sampled=num_ns,\n",
    "          unique=True,\n",
    "          range_max=vocab_size,\n",
    "          seed=seed,\n",
    "          name=\"negative_sampling\")\n",
    "\n",
    "      # Build context and label vectors (for one target word)\n",
    "      context = tf.concat([tf.squeeze(context_class,1), negative_sampling_candidates], 0)\n",
    "      label = tf.constant([1] + [0]*num_ns, dtype=\"int64\")\n",
    "\n",
    "      # Append each element from the training example to global lists.\n",
    "      targets.append(target_word)\n",
    "      contexts.append(context)\n",
    "      labels.append(label)\n",
    "\n",
    "  return targets, contexts, labels"
   ]
  },
  {
   "cell_type": "markdown",
   "id": "107e611a",
   "metadata": {},
   "source": [
    "#### Preparing Dataset for Training"
   ]
  },
  {
   "cell_type": "code",
   "execution_count": 69,
   "id": "2533bdfe",
   "metadata": {},
   "outputs": [],
   "source": [
    "path_to_file = tf.keras.utils.get_file('shakespeare.txt', 'https://storage.googleapis.com/download.tensorflow.org/data/shakespeare.txt')"
   ]
  },
  {
   "cell_type": "code",
   "execution_count": 70,
   "id": "427b4249",
   "metadata": {},
   "outputs": [
    {
     "name": "stdout",
     "output_type": "stream",
     "text": [
      "First Citizen:\n",
      "Before we proceed any further, hear me speak.\n",
      "\n",
      "All:\n",
      "Speak, speak.\n",
      "\n",
      "First Citizen:\n",
      "You are all resolved rather to die than to famish?\n",
      "\n",
      "All:\n",
      "Resolved. resolved.\n",
      "\n",
      "First Citizen:\n",
      "First, you know Caius Marcius is chief enemy to the people.\n",
      "\n",
      "All:\n",
      "We know't, we know't.\n",
      "\n",
      "First Citizen:\n",
      "Let us kill him, and we'll have corn at our own price.\n"
     ]
    }
   ],
   "source": [
    "with open(path_to_file) as f:\n",
    "  lines = f.read().splitlines()\n",
    "for line in lines[:20]:\n",
    "  print(line)"
   ]
  },
  {
   "cell_type": "code",
   "execution_count": 71,
   "id": "200be92e",
   "metadata": {},
   "outputs": [],
   "source": [
    "text_ds = tf.data.TextLineDataset(path_to_file).filter(lambda x: tf.cast(tf.strings.length(x), bool))"
   ]
  },
  {
   "cell_type": "code",
   "execution_count": 73,
   "id": "4d6722f3",
   "metadata": {},
   "outputs": [
    {
     "name": "stdout",
     "output_type": "stream",
     "text": [
      "First Citizen:\n",
      "Before we proceed any further, hear me speak.\n",
      "All:\n",
      "Speak, speak.\n",
      "First Citizen:\n",
      "You are all resolved rather to die than to famish?\n",
      "All:\n",
      "Resolved. resolved.\n",
      "First Citizen:\n",
      "First, you know Caius Marcius is chief enemy to the people.\n",
      "All:\n",
      "We know't, we know't.\n",
      "First Citizen:\n",
      "Let us kill him, and we'll have corn at our own price.\n",
      "Is't a verdict?\n",
      "All:\n",
      "No more talking on't; let it be done: away, away!\n",
      "Second Citizen:\n",
      "One word, good citizens.\n",
      "First Citizen:\n",
      "We are accounted poor citizens, the patricians good.\n"
     ]
    }
   ],
   "source": [
    "import itertools\n",
    "for ele in itertools.islice(text_ds.as_numpy_iterator(), 21):\n",
    "    print(ele.decode('utf-8'))\n",
    "    "
   ]
  },
  {
   "cell_type": "code",
   "execution_count": null,
   "id": "1ddca425",
   "metadata": {},
   "outputs": [
    {
     "name": "stdout",
     "output_type": "stream",
     "text": [
      "25670\n"
     ]
    }
   ],
   "source": [
    "# Looking into corpus for total unique words it has\n",
    "unique_words = set()\n",
    "for text in text_ds.as_numpy_iterator():\n",
    "    unique_words.update(text.decode().split())\n",
    "vocab_size = len(unique_words)\n",
    "print(vocab_size)\n"
   ]
  },
  {
   "cell_type": "markdown",
   "id": "b566f6ed",
   "metadata": {},
   "source": [
    "# <font color=\"red\"> Preprocessing </font>\n",
    "### Step 1: Vectorize the corpus & Build Vocabulary"
   ]
  },
  {
   "cell_type": "code",
   "execution_count": null,
   "id": "b9be5fd5",
   "metadata": {},
   "outputs": [],
   "source": [
    "# Now, create a custom standardization function to lowercase the text and\n",
    "# remove punctuation.\n",
    "def custom_standardization(input_data):\n",
    "  lowercase = tf.strings.lower(input_data)\n",
    "  return tf.strings.regex_replace(lowercase,\n",
    "                                  '[%s]' % re.escape(string.punctuation), '')\n",
    "\n",
    "\n",
    "# Define the vocabulary size and the number of words in a sequence.\n",
    "vocab_size = 4096  # from the layer.adapt, will give the vocal size=12850, to see this comment max_tokens argument\n",
    "sequence_length = 10\n",
    "\n",
    "# Use the `TextVectorization` layer to normalize, split, and map strings to\n",
    "# integers. Set the `output_sequence_length` length to pad all samples to the\n",
    "# same length.\n",
    "vectorize_layer = layers.TextVectorization(\n",
    "    standardize=custom_standardization,\n",
    "    max_tokens=vocab_size,\n",
    "    output_mode='int',\n",
    "    # output_sequence_length=sequence_length\n",
    "    )"
   ]
  },
  {
   "cell_type": "markdown",
   "id": "7fafd749",
   "metadata": {},
   "source": [
    "### <font color=\"yellow\">Call TextVectorization.adapt on the text dataset to create vocabulary</font>"
   ]
  },
  {
   "cell_type": "code",
   "execution_count": 94,
   "id": "d30fd355",
   "metadata": {},
   "outputs": [],
   "source": [
    "vectorize_layer.adapt(text_ds.batch(1024))"
   ]
  },
  {
   "cell_type": "markdown",
   "id": "6323023e",
   "metadata": {},
   "source": [
    "#### <font color=\"green\">Once the state of the layer has been adapted to represent the text corpus, the vocabulary can be accessed with TextVectorization.get_vocabulary. This function returns a list of all vocabulary tokens sorted (descending) by their frequency.</font>"
   ]
  },
  {
   "cell_type": "code",
   "execution_count": null,
   "id": "2d3c5e3e",
   "metadata": {},
   "outputs": [
    {
     "name": "stdout",
     "output_type": "stream",
     "text": [
      "['', '[UNK]', np.str_('the'), np.str_('and'), np.str_('to'), np.str_('i'), np.str_('of'), np.str_('you'), np.str_('my'), np.str_('a'), np.str_('that'), np.str_('in'), np.str_('is'), np.str_('not'), np.str_('for'), np.str_('with'), np.str_('me'), np.str_('it'), np.str_('be'), np.str_('your')]\n",
      "12850\n"
     ]
    }
   ],
   "source": [
    "# Save the created vocabulary for reference.\n",
    "inverse_vocab = vectorize_layer.get_vocabulary()\n",
    "print(inverse_vocab[:20])\n",
    "print(len(inverse_vocab))  # size of vocab"
   ]
  },
  {
   "cell_type": "markdown",
   "id": "13114960",
   "metadata": {},
   "source": [
    "#### tokenzing the all sentences in the training corpus using vocabulary from vectorize_layer"
   ]
  },
  {
   "cell_type": "code",
   "execution_count": 82,
   "id": "b6f0150c",
   "metadata": {},
   "outputs": [],
   "source": [
    "# Vectorize the data in text_ds.\n",
    "text_vector_ds = text_ds.batch(1024).prefetch(tf.data.AUTOTUNE).map(vectorize_layer).unbatch()"
   ]
  },
  {
   "cell_type": "code",
   "execution_count": 84,
   "id": "3b67e720",
   "metadata": {},
   "outputs": [
    {
     "name": "stdout",
     "output_type": "stream",
     "text": [
      "<_UnbatchDataset element_spec=TensorSpec(shape=(10,), dtype=tf.int64, name=None)>\n"
     ]
    }
   ],
   "source": [
    "print(text_vector_ds)"
   ]
  },
  {
   "cell_type": "code",
   "execution_count": 85,
   "id": "ee188e70",
   "metadata": {},
   "outputs": [
    {
     "name": "stdout",
     "output_type": "stream",
     "text": [
      "32777\n"
     ]
    }
   ],
   "source": [
    "sequences = list(text_vector_ds.as_numpy_iterator())\n",
    "print(len(sequences))"
   ]
  },
  {
   "cell_type": "code",
   "execution_count": 86,
   "id": "33e7fa77",
   "metadata": {},
   "outputs": [
    {
     "name": "stdout",
     "output_type": "stream",
     "text": [
      "[ 89 270   0   0   0   0   0   0   0   0] => [np.str_('first'), np.str_('citizen'), '', '', '', '', '', '', '', '']\n",
      "[138  36 982 144 673 125  16 106   0   0] => [np.str_('before'), np.str_('we'), np.str_('proceed'), np.str_('any'), np.str_('further'), np.str_('hear'), np.str_('me'), np.str_('speak'), '', '']\n",
      "[34  0  0  0  0  0  0  0  0  0] => [np.str_('all'), '', '', '', '', '', '', '', '', '']\n",
      "[106 106   0   0   0   0   0   0   0   0] => [np.str_('speak'), np.str_('speak'), '', '', '', '', '', '', '', '']\n",
      "[ 89 270   0   0   0   0   0   0   0   0] => [np.str_('first'), np.str_('citizen'), '', '', '', '', '', '', '', '']\n"
     ]
    }
   ],
   "source": [
    "for seq in sequences[:5]:\n",
    "    print(f\"{seq} => {[inverse_vocab[i] for i in seq]}\")"
   ]
  },
  {
   "cell_type": "markdown",
   "id": "0dd577b4",
   "metadata": {},
   "source": [
    "### Step 2: Generate training examples from sequences[tokenized using vocabulary]"
   ]
  },
  {
   "cell_type": "code",
   "execution_count": 100,
   "id": "4ca4eb39",
   "metadata": {},
   "outputs": [
    {
     "name": "stderr",
     "output_type": "stream",
     "text": [
      "100%|██████████| 32777/32777 [00:58<00:00, 564.33it/s]\n"
     ]
    },
    {
     "name": "stdout",
     "output_type": "stream",
     "text": [
      "\n",
      "\n",
      "targets.shape: (107193,)\n",
      "contexts.shape: (107193, 5)\n",
      "labels.shape: (107193, 5)\n"
     ]
    }
   ],
   "source": [
    "targets, contexts, labels = generate_training_data(\n",
    "    sequences=sequences,\n",
    "    window_size=2,\n",
    "    num_ns=4,\n",
    "    vocab_size=vocab_size,\n",
    "    seed=42)\n",
    "\n",
    "targets = np.array(targets)\n",
    "contexts = np.array(contexts)\n",
    "labels = np.array(labels)\n",
    "\n",
    "print('\\n')\n",
    "print(f\"targets.shape: {targets.shape}\")\n",
    "print(f\"contexts.shape: {contexts.shape}\")\n",
    "print(f\"labels.shape: {labels.shape}\")"
   ]
  },
  {
   "cell_type": "code",
   "execution_count": 101,
   "id": "b12c0078",
   "metadata": {},
   "outputs": [
    {
     "name": "stdout",
     "output_type": "stream",
     "text": [
      "<_BatchDataset element_spec=((TensorSpec(shape=(1024,), dtype=tf.int64, name=None), TensorSpec(shape=(1024, 5), dtype=tf.int64, name=None)), TensorSpec(shape=(1024, 5), dtype=tf.int64, name=None))>\n"
     ]
    }
   ],
   "source": [
    "BATCH_SIZE = 1024\n",
    "BUFFER_SIZE = 10000\n",
    "dataset = tf.data.Dataset.from_tensor_slices(((targets, contexts), labels))\n",
    "dataset = dataset.shuffle(BUFFER_SIZE).batch(BATCH_SIZE, drop_remainder=True)\n",
    "print(dataset)"
   ]
  },
  {
   "cell_type": "code",
   "execution_count": 103,
   "id": "cf98f6a7",
   "metadata": {},
   "outputs": [
    {
     "name": "stdout",
     "output_type": "stream",
     "text": [
      "<_PrefetchDataset element_spec=((TensorSpec(shape=(1024,), dtype=tf.int64, name=None), TensorSpec(shape=(1024, 5), dtype=tf.int64, name=None)), TensorSpec(shape=(1024, 5), dtype=tf.int64, name=None))>\n"
     ]
    }
   ],
   "source": [
    "dataset = dataset.cache().prefetch(buffer_size=tf.data.AUTOTUNE)\n",
    "print(dataset)"
   ]
  },
  {
   "cell_type": "markdown",
   "id": "8aadfb67",
   "metadata": {},
   "source": [
    "### Model Training"
   ]
  },
  {
   "cell_type": "code",
   "execution_count": 104,
   "id": "51dd91ba",
   "metadata": {},
   "outputs": [],
   "source": [
    "class Word2Vec(tf.keras.Model):\n",
    "  def __init__(self, vocab_size, embedding_dim):\n",
    "    super(Word2Vec, self).__init__()\n",
    "    self.target_embedding = layers.Embedding(vocab_size,\n",
    "                                      embedding_dim,\n",
    "                                      name=\"w2v_embedding\")\n",
    "    self.context_embedding = layers.Embedding(vocab_size,\n",
    "                                       embedding_dim)\n",
    "\n",
    "  def call(self, pair):\n",
    "    target, context = pair\n",
    "    # target: (batch, dummy?)  # The dummy axis doesn't exist in TF2.7+\n",
    "    # context: (batch, context)\n",
    "    if len(target.shape) == 2:\n",
    "      target = tf.squeeze(target, axis=1)\n",
    "    # target: (batch,)\n",
    "    word_emb = self.target_embedding(target)\n",
    "    # word_emb: (batch, embed)\n",
    "    context_emb = self.context_embedding(context)\n",
    "    # context_emb: (batch, context, embed)\n",
    "    dots = tf.einsum('be,bce->bc', word_emb, context_emb)\n",
    "    # dots: (batch, context)\n",
    "    return dots"
   ]
  },
  {
   "cell_type": "code",
   "execution_count": 105,
   "id": "91efe655",
   "metadata": {},
   "outputs": [],
   "source": [
    "def custom_loss(x_logit, y_true):\n",
    "      return tf.nn.sigmoid_cross_entropy_with_logits(logits=x_logit, labels=y_true)"
   ]
  },
  {
   "cell_type": "code",
   "execution_count": 107,
   "id": "0c8bacea",
   "metadata": {},
   "outputs": [
    {
     "name": "stdout",
     "output_type": "stream",
     "text": [
      "Epoch 1/20\n",
      "\u001b[1m104/104\u001b[0m \u001b[32m━━━━━━━━━━━━━━━━━━━━\u001b[0m\u001b[37m\u001b[0m \u001b[1m21s\u001b[0m 157ms/step - accuracy: 0.2899 - loss: 1.6013\n",
      "Epoch 2/20\n",
      "\u001b[1m104/104\u001b[0m \u001b[32m━━━━━━━━━━━━━━━━━━━━\u001b[0m\u001b[37m\u001b[0m \u001b[1m19s\u001b[0m 178ms/step - accuracy: 0.4801 - loss: 1.5031\n",
      "Epoch 3/20\n",
      "\u001b[1m104/104\u001b[0m \u001b[32m━━━━━━━━━━━━━━━━━━━━\u001b[0m\u001b[37m\u001b[0m \u001b[1m14s\u001b[0m 137ms/step - accuracy: 0.4857 - loss: 1.3607\n",
      "Epoch 4/20\n",
      "\u001b[1m104/104\u001b[0m \u001b[32m━━━━━━━━━━━━━━━━━━━━\u001b[0m\u001b[37m\u001b[0m \u001b[1m14s\u001b[0m 138ms/step - accuracy: 0.5289 - loss: 1.2454\n",
      "Epoch 5/20\n",
      "\u001b[1m104/104\u001b[0m \u001b[32m━━━━━━━━━━━━━━━━━━━━\u001b[0m\u001b[37m\u001b[0m \u001b[1m16s\u001b[0m 149ms/step - accuracy: 0.5700 - loss: 1.1508\n",
      "Epoch 6/20\n",
      "\u001b[1m104/104\u001b[0m \u001b[32m━━━━━━━━━━━━━━━━━━━━\u001b[0m\u001b[37m\u001b[0m \u001b[1m20s\u001b[0m 188ms/step - accuracy: 0.6085 - loss: 1.0687\n",
      "Epoch 7/20\n",
      "\u001b[1m104/104\u001b[0m \u001b[32m━━━━━━━━━━━━━━━━━━━━\u001b[0m\u001b[37m\u001b[0m \u001b[1m15s\u001b[0m 148ms/step - accuracy: 0.6445 - loss: 0.9948\n",
      "Epoch 8/20\n",
      "\u001b[1m104/104\u001b[0m \u001b[32m━━━━━━━━━━━━━━━━━━━━\u001b[0m\u001b[37m\u001b[0m \u001b[1m14s\u001b[0m 135ms/step - accuracy: 0.6780 - loss: 0.9273\n",
      "Epoch 9/20\n",
      "\u001b[1m104/104\u001b[0m \u001b[32m━━━━━━━━━━━━━━━━━━━━\u001b[0m\u001b[37m\u001b[0m \u001b[1m15s\u001b[0m 140ms/step - accuracy: 0.7089 - loss: 0.8651\n",
      "Epoch 10/20\n",
      "\u001b[1m104/104\u001b[0m \u001b[32m━━━━━━━━━━━━━━━━━━━━\u001b[0m\u001b[37m\u001b[0m \u001b[1m19s\u001b[0m 178ms/step - accuracy: 0.7371 - loss: 0.8078\n",
      "Epoch 11/20\n",
      "\u001b[1m104/104\u001b[0m \u001b[32m━━━━━━━━━━━━━━━━━━━━\u001b[0m\u001b[37m\u001b[0m \u001b[1m24s\u001b[0m 228ms/step - accuracy: 0.7612 - loss: 0.7551\n",
      "Epoch 12/20\n",
      "\u001b[1m104/104\u001b[0m \u001b[32m━━━━━━━━━━━━━━━━━━━━\u001b[0m\u001b[37m\u001b[0m \u001b[1m15s\u001b[0m 148ms/step - accuracy: 0.7830 - loss: 0.7068\n",
      "Epoch 13/20\n",
      "\u001b[1m104/104\u001b[0m \u001b[32m━━━━━━━━━━━━━━━━━━━━\u001b[0m\u001b[37m\u001b[0m \u001b[1m15s\u001b[0m 141ms/step - accuracy: 0.8014 - loss: 0.6625\n",
      "Epoch 14/20\n",
      "\u001b[1m104/104\u001b[0m \u001b[32m━━━━━━━━━━━━━━━━━━━━\u001b[0m\u001b[37m\u001b[0m \u001b[1m15s\u001b[0m 142ms/step - accuracy: 0.8169 - loss: 0.6220\n",
      "Epoch 15/20\n",
      "\u001b[1m104/104\u001b[0m \u001b[32m━━━━━━━━━━━━━━━━━━━━\u001b[0m\u001b[37m\u001b[0m \u001b[1m15s\u001b[0m 141ms/step - accuracy: 0.8312 - loss: 0.5850\n",
      "Epoch 16/20\n",
      "\u001b[1m104/104\u001b[0m \u001b[32m━━━━━━━━━━━━━━━━━━━━\u001b[0m\u001b[37m\u001b[0m \u001b[1m15s\u001b[0m 141ms/step - accuracy: 0.8436 - loss: 0.5512\n",
      "Epoch 17/20\n",
      "\u001b[1m104/104\u001b[0m \u001b[32m━━━━━━━━━━━━━━━━━━━━\u001b[0m\u001b[37m\u001b[0m \u001b[1m15s\u001b[0m 141ms/step - accuracy: 0.8544 - loss: 0.5203\n",
      "Epoch 18/20\n",
      "\u001b[1m104/104\u001b[0m \u001b[32m━━━━━━━━━━━━━━━━━━━━\u001b[0m\u001b[37m\u001b[0m \u001b[1m16s\u001b[0m 149ms/step - accuracy: 0.8641 - loss: 0.4922\n",
      "Epoch 19/20\n",
      "\u001b[1m104/104\u001b[0m \u001b[32m━━━━━━━━━━━━━━━━━━━━\u001b[0m\u001b[37m\u001b[0m \u001b[1m15s\u001b[0m 143ms/step - accuracy: 0.8722 - loss: 0.4665\n",
      "Epoch 20/20\n",
      "\u001b[1m104/104\u001b[0m \u001b[32m━━━━━━━━━━━━━━━━━━━━\u001b[0m\u001b[37m\u001b[0m \u001b[1m15s\u001b[0m 141ms/step - accuracy: 0.8804 - loss: 0.4430\n"
     ]
    },
    {
     "data": {
      "text/plain": [
       "<keras.src.callbacks.history.History at 0x238d5e61d90>"
      ]
     },
     "execution_count": 107,
     "metadata": {},
     "output_type": "execute_result"
    }
   ],
   "source": [
    "embedding_dim = 128\n",
    "word2vec = Word2Vec(vocab_size, embedding_dim)\n",
    "word2vec.compile(optimizer='adam',\n",
    "                 loss=tf.keras.losses.CategoricalCrossentropy(from_logits=True),\n",
    "                 metrics=['accuracy'])\n",
    "tensorboard_callback = tf.keras.callbacks.TensorBoard(log_dir=\"logs\")\n",
    "word2vec.fit(dataset, epochs=20, callbacks=[tensorboard_callback])"
   ]
  },
  {
   "cell_type": "code",
   "execution_count": null,
   "id": "c8ccf6d9",
   "metadata": {},
   "outputs": [
    {
     "name": "stdout",
     "output_type": "stream",
     "text": [
      "The tensorboard extension is already loaded. To reload it, use:\n",
      "  %reload_ext tensorboard\n"
     ]
    },
    {
     "data": {
      "text/html": [
       "\n",
       "      <iframe id=\"tensorboard-frame-16419f828b9d2434\" width=\"100%\" height=\"800\" frameborder=\"0\">\n",
       "      </iframe>\n",
       "      <script>\n",
       "        (function() {\n",
       "          const frame = document.getElementById(\"tensorboard-frame-16419f828b9d2434\");\n",
       "          const url = new URL(\"/\", window.location);\n",
       "          const port = 6008;\n",
       "          if (port) {\n",
       "            url.port = port;\n",
       "          }\n",
       "          frame.src = url;\n",
       "        })();\n",
       "      </script>\n",
       "    "
      ],
      "text/plain": [
       "<IPython.core.display.HTML object>"
      ]
     },
     "metadata": {},
     "output_type": "display_data"
    }
   ],
   "source": [
    "# please use terminal instead of notebook [tensorboard --logdir logs/train/]\n",
    "\n",
    "# %load_ext tensorboard\n",
    "# %tensorboard --logdir logs/train/\n"
   ]
  },
  {
   "cell_type": "markdown",
   "id": "c49ffc29",
   "metadata": {},
   "source": [
    "#### Embedding lookup and analysis"
   ]
  },
  {
   "cell_type": "code",
   "execution_count": null,
   "id": "d704c108",
   "metadata": {},
   "outputs": [],
   "source": [
    "weights = word2vec.get_layer('w2v_embedding').get_weights()[0]\n",
    "vocab = vectorize_layer.get_vocabulary()"
   ]
  },
  {
   "cell_type": "code",
   "execution_count": null,
   "id": "3c90b37c",
   "metadata": {},
   "outputs": [],
   "source": [
    "# out_v = io.open('vectors.tsv', 'w', encoding='utf-8')\n",
    "# out_m = io.open('metadata.tsv', 'w', encoding='utf-8')\n",
    "\n",
    "# for index, word in enumerate(vocab):\n",
    "#   if index == 0:\n",
    "#     continue  # skip 0, it's padding.\n",
    "#   vec = weights[index]\n",
    "#   out_v.write('\\t'.join([str(x) for x in vec]) + \"\\n\")\n",
    "#   out_m.write(word + \"\\n\")\n",
    "# out_v.close()\n",
    "# out_m.close()"
   ]
  },
  {
   "cell_type": "markdown",
   "id": "d3e65b57",
   "metadata": {},
   "source": [
    "# <font color=\"pink\"> Now prepare embeddings on new sentences.\n",
    "Analysis on Standalone Vector Space and Contextual Vector Space </font>"
   ]
  },
  {
   "cell_type": "code",
   "execution_count": 152,
   "id": "0b93cb2e",
   "metadata": {},
   "outputs": [
    {
     "name": "stdout",
     "output_type": "stream",
     "text": [
      "<class 'bytes'>\n",
      "I love deep learning\n"
     ]
    }
   ],
   "source": [
    "new_sentence = tf.data.Dataset.from_tensors([\"I love deep learning\"])\n",
    "for ele in new_sentence.as_numpy_iterator():\n",
    "    print(type(ele[0]))\n",
    "    print(ele[0].decode('utf-8'))\n",
    "# token_ids = [word2id[word] for word in new_sentence.lower().split() if word in word2id]\n"
   ]
  },
  {
   "cell_type": "code",
   "execution_count": 153,
   "id": "5154ebd5",
   "metadata": {},
   "outputs": [
    {
     "name": "stdout",
     "output_type": "stream",
     "text": [
      "[[   5   77  594 3038]]\n",
      "i\n",
      "love\n",
      "deep\n",
      "learning\n"
     ]
    },
    {
     "data": {
      "text/plain": [
       "array([   5,   77,  594, 3038])"
      ]
     },
     "execution_count": 153,
     "metadata": {},
     "output_type": "execute_result"
    }
   ],
   "source": [
    "sentence_tokens=new_sentence.map(vectorize_layer)\n",
    "for i in sentence_tokens.as_numpy_iterator():\n",
    "    print(i)\n",
    "    for j in i[0]:\n",
    "        print(vectorize_layer.get_vocabulary()[j])\n",
    "\n",
    "tokenized = list(sentence_tokens.as_numpy_iterator())[0][0]\n",
    "tokenized"
   ]
  },
  {
   "cell_type": "code",
   "execution_count": null,
   "id": "e3612a76",
   "metadata": {},
   "outputs": [
    {
     "data": {
      "text/plain": [
       "['i', 'love', 'deep', 'learning']"
      ]
     },
     "execution_count": 154,
     "metadata": {},
     "output_type": "execute_result"
    }
   ],
   "source": [
    "# one can get list of words from given sentence, however getting them back from vocabulary is what need\n",
    "decoded=[str(vectorize_layer.get_vocabulary()[i]) for i in tokenized]\n",
    "decoded"
   ]
  },
  {
   "cell_type": "markdown",
   "id": "2c29c612",
   "metadata": {},
   "source": [
    "### <font color=\"violet\"> Use Trained Model to make embeddings for \n",
    "new sentence in both standalone(text->nummerical conversion) and context</font>"
   ]
  },
  {
   "cell_type": "code",
   "execution_count": 155,
   "id": "fca9cbe2",
   "metadata": {},
   "outputs": [],
   "source": [
    "# there two kinds of embeddings\n",
    "# 1. target embeddings\n",
    "# 2. context embeddings\n",
    "# we will look at 1\n",
    "target_emd_lay=word2vec.get_layer('w2v_embedding')\n",
    "context_emd_lay=word2vec.get_layer('embedding_1')"
   ]
  },
  {
   "cell_type": "code",
   "execution_count": 156,
   "id": "41ebfe55",
   "metadata": {},
   "outputs": [
    {
     "name": "stdout",
     "output_type": "stream",
     "text": [
      "target shape: (4, 128)\n",
      "context shape: (4, 128)\n"
     ]
    }
   ],
   "source": [
    "# Target\n",
    "target_embs=target_emd_lay(tokenized)\n",
    "\n",
    "# Context\n",
    "context_embs=context_emd_lay(tokenized)\n",
    "\n",
    "print(f\"target shape: {target_embs.shape}\")\n",
    "print(f\"context shape: {context_embs.shape}\")"
   ]
  },
  {
   "cell_type": "code",
   "execution_count": null,
   "id": "aaa3d943",
   "metadata": {},
   "outputs": [
    {
     "data": {
      "text/plain": [
       "<tf.Tensor: shape=(4, 128), dtype=float32, numpy=\n",
       "array([[-0.03212512, -0.02179386,  0.01279657,  0.02571198,  0.02446023,\n",
       "        -0.01956969, -0.02043103,  0.01412518, -0.03446918,  0.04737002,\n",
       "         0.03609223, -0.0464257 , -0.04460065,  0.01509662, -0.0090661 ,\n",
       "         0.0329846 ,  0.03908226,  0.02925802, -0.00511322,  0.01447273,\n",
       "         0.03795232, -0.00736177,  0.04265875,  0.02203096, -0.01442593,\n",
       "         0.03334821, -0.04396994,  0.0420073 ,  0.00151787,  0.02998022,\n",
       "        -0.04623155,  0.02279265,  0.03811213,  0.04596433, -0.04903488,\n",
       "        -0.02281567,  0.04702022,  0.04379613, -0.00981277, -0.0329138 ,\n",
       "        -0.03585992, -0.03649987, -0.04533822, -0.01213319,  0.04575283,\n",
       "         0.02303899,  0.00988616,  0.02197285,  0.04268357,  0.0411021 ,\n",
       "         0.00700694, -0.00905206,  0.04957546, -0.04638374, -0.00917389,\n",
       "         0.03377844,  0.0244273 ,  0.03124393, -0.04809124,  0.02430962,\n",
       "         0.0181296 , -0.01149137,  0.02327207, -0.03822088, -0.02399576,\n",
       "         0.01096115,  0.01827676,  0.04014236, -0.00341959, -0.03449423,\n",
       "        -0.04708121, -0.03580666,  0.03439374, -0.01617708,  0.02192732,\n",
       "        -0.00710835, -0.02431831,  0.04225847,  0.02842524,  0.01101338,\n",
       "         0.01137531,  0.04970742,  0.0400309 ,  0.03290936,  0.01722467,\n",
       "         0.00241224, -0.02662483,  0.02249766,  0.04866494, -0.04281298,\n",
       "         0.02167224, -0.02916312,  0.01023769, -0.04983221, -0.0222037 ,\n",
       "        -0.00699848,  0.03518183, -0.00080296,  0.00292927, -0.03109626,\n",
       "         0.00857133,  0.04989142, -0.01265807,  0.04110959,  0.03271789,\n",
       "        -0.00937201, -0.02101679,  0.02205542,  0.02832803,  0.02108189,\n",
       "         0.00246959, -0.03849123,  0.02006406,  0.03404358,  0.01556212,\n",
       "        -0.03199349,  0.02402722, -0.03487263, -0.04794649, -0.01539056,\n",
       "        -0.04768017,  0.0487061 ,  0.03228741, -0.00596203,  0.02455968,\n",
       "         0.02277168,  0.04713357,  0.04513789],\n",
       "       [ 0.10536431, -0.09695297, -0.15481238, -0.02803631, -0.25470066,\n",
       "        -0.18604533,  0.25608024, -0.00213938,  0.23889214, -0.47889215,\n",
       "         0.0379141 , -0.1301478 ,  0.23669884, -0.01410343,  0.29036382,\n",
       "        -0.15994084, -0.21603109, -0.04950867, -0.29337117,  0.26785788,\n",
       "         0.1043193 ,  0.07523668,  0.11074524,  0.08045914,  0.1112591 ,\n",
       "        -0.04644787,  0.10701891, -0.14429998,  0.24450873,  0.32082805,\n",
       "         0.21021642, -0.04192687, -0.01796623, -0.54066116, -0.01782712,\n",
       "         0.13804406, -0.33749154, -0.07986993,  0.13535899, -0.05613678,\n",
       "         0.02268473,  0.1847265 ,  0.2572146 , -0.14717132,  0.15025546,\n",
       "        -0.04647701,  0.46873236,  0.09598713,  0.2945764 , -0.39141536,\n",
       "        -0.07868072,  0.2653647 ,  0.2623031 , -0.2368459 , -0.31534868,\n",
       "         0.3318475 ,  0.16402794,  0.08425136, -0.2106842 ,  0.13264157,\n",
       "        -0.4452899 ,  0.0786752 ,  0.1275668 ,  0.1190837 ,  0.24872665,\n",
       "        -0.22218318, -0.18726583,  0.12976176, -0.24291424,  0.00906575,\n",
       "         0.45987415, -0.13051695, -0.3181682 ,  0.03748018, -0.12507118,\n",
       "        -0.26330444,  0.23931818,  0.19601755, -0.23210897, -0.03490674,\n",
       "        -0.13927321,  0.19517717, -0.04952446, -0.04511209, -0.20011353,\n",
       "        -0.12065402, -0.02628714, -0.5538993 ,  0.0276636 ,  0.24052158,\n",
       "        -0.33050245,  0.20239809,  0.2596714 ,  0.10053873, -0.51259625,\n",
       "         0.05047392, -0.14978872, -0.13301672, -0.27958018, -0.05033254,\n",
       "        -0.1254163 ,  0.09816232,  0.15242586,  0.02873886,  0.02773903,\n",
       "         0.03936409,  0.20240243, -0.09133641,  0.10827036, -0.270633  ,\n",
       "        -0.00451995, -0.16007903, -0.4296038 ,  0.03671676,  0.14045355,\n",
       "         0.48451507, -0.32401973, -0.14786357,  0.41956237, -0.09997711,\n",
       "         0.23809889, -0.03360894, -0.37042233, -0.3891884 , -0.16215153,\n",
       "         0.24184318,  0.15145028, -0.22096834],\n",
       "       [ 0.00293497, -0.08144388,  0.0019525 ,  0.11745474, -0.11357021,\n",
       "        -0.1990847 ,  0.06648884, -0.13168456,  0.29138777, -0.17133367,\n",
       "         0.2537483 , -0.04358874,  0.12427036, -0.08815125,  0.13885954,\n",
       "        -0.01667359, -0.13202938, -0.24528721, -0.3696412 , -0.02927558,\n",
       "         0.31067938, -0.09903198,  0.01104573,  0.01908918, -0.08309959,\n",
       "        -0.2653791 ,  0.23608609,  0.02078394, -0.13686205,  0.2996494 ,\n",
       "         0.14907153,  0.04193265,  0.16470522, -0.00242621, -0.02129034,\n",
       "        -0.45756075,  0.05454536,  0.14760661, -0.2748709 ,  0.27042812,\n",
       "        -0.1723711 , -0.01171255,  0.03454009, -0.35585368,  0.12946649,\n",
       "         0.08766066, -0.04435434,  0.25790983,  0.24673966, -0.14991254,\n",
       "         0.27673358,  0.2753593 ,  0.38129848,  0.3002373 , -0.38874426,\n",
       "         0.23160338, -0.00803162, -0.29780754, -0.02896466,  0.22872217,\n",
       "        -0.3824433 ,  0.17284305, -0.16151683,  0.17957468,  0.04335754,\n",
       "         0.11736424, -0.09957521,  0.27726328, -0.05070639, -0.21054503,\n",
       "         0.41612   ,  0.14077449, -0.13382314,  0.13831155,  0.24439378,\n",
       "         0.1856012 , -0.15022689, -0.27287668,  0.16910066,  0.14883876,\n",
       "         0.26798356,  0.25860706, -0.25639227,  0.00200997,  0.01536325,\n",
       "         0.244533  ,  0.04121923,  0.19465302,  0.23525622,  0.10175283,\n",
       "        -0.20947821, -0.11177456,  0.10870431, -0.33085218,  0.30407968,\n",
       "         0.2253493 ,  0.00697242,  0.25511655, -0.02094619,  0.13705155,\n",
       "        -0.18819232, -0.10998164,  0.3101703 , -0.03942337,  0.13958237,\n",
       "         0.11721627, -0.34588593, -0.12212832, -0.11383125,  0.01448569,\n",
       "         0.0034258 ,  0.04055855, -0.38794228,  0.15513095,  0.2630352 ,\n",
       "        -0.04091944,  0.05328152, -0.02664275,  0.1894986 ,  0.10949744,\n",
       "         0.02318896,  0.05659276, -0.09173092, -0.06492274,  0.04239925,\n",
       "        -0.31200534,  0.10162933, -0.08681555],\n",
       "       [-0.04312076,  0.21065366, -0.00463951, -0.34581754, -0.12035532,\n",
       "        -0.08584441, -0.2677033 , -0.21898781,  0.24866658, -0.14580391,\n",
       "         0.01687732,  0.39402294,  0.00684972, -0.06343591,  0.08222789,\n",
       "        -0.07330247, -0.32092893, -0.31072387, -0.1540073 ,  0.00087229,\n",
       "        -0.02370684, -0.15240513,  0.03441584,  0.22555421, -0.07702635,\n",
       "        -0.37613907,  0.34016728, -0.2308818 ,  0.36462146,  0.2805662 ,\n",
       "         0.13884376, -0.21181971,  0.07518557, -0.06929421,  0.13255696,\n",
       "        -0.0558687 , -0.272395  , -0.1548546 ,  0.00932361, -0.10974999,\n",
       "         0.0741581 ,  0.21746078, -0.24558146, -0.23144126,  0.32687873,\n",
       "         0.25901958,  0.26263905, -0.11403704, -0.32479963, -0.24662828,\n",
       "         0.31700292,  0.16375837, -0.0499692 , -0.44307566, -0.15023491,\n",
       "         0.43362918, -0.23772693, -0.16766162, -0.105475  ,  0.09869145,\n",
       "        -0.08944731,  0.02800638,  0.21969913,  0.11041553,  0.19305758,\n",
       "         0.39090222, -0.12100824,  0.06807391,  0.2471602 , -0.05629349,\n",
       "        -0.01755298, -0.00797456, -0.09438287, -0.08452446,  0.1204415 ,\n",
       "        -0.29250282, -0.01741293, -0.13931039, -0.0830875 ,  0.0676601 ,\n",
       "         0.05788814,  0.21298735,  0.30552945, -0.04473913,  0.03265839,\n",
       "        -0.0471697 , -0.06930404,  0.26095822,  0.1285722 ,  0.15956093,\n",
       "        -0.15190513,  0.32897416,  0.05009676,  0.33146974, -0.07552812,\n",
       "        -0.0402704 ,  0.42695144, -0.36322913,  0.18444307,  0.23887008,\n",
       "        -0.03478045, -0.13784786, -0.12429321, -0.04363117, -0.01697447,\n",
       "         0.04506565,  0.25540498, -0.11009913, -0.00452803, -0.0907061 ,\n",
       "         0.2590226 , -0.02277612, -0.12315607, -0.0159398 , -0.27355734,\n",
       "         0.2697037 , -0.23896523, -0.13222222,  0.20844804,  0.18691142,\n",
       "        -0.24964474, -0.27173916, -0.16596062, -0.02585351, -0.20984134,\n",
       "         0.5565806 , -0.02583637, -0.31819963]], dtype=float32)>"
      ]
     },
     "execution_count": 157,
     "metadata": {},
     "output_type": "execute_result"
    }
   ],
   "source": [
    "target_embs[:10]"
   ]
  },
  {
   "cell_type": "code",
   "execution_count": null,
   "id": "0ffda37e",
   "metadata": {},
   "outputs": [
    {
     "data": {
      "text/plain": [
       "<tf.Tensor: shape=(4, 128), dtype=float32, numpy=\n",
       "array([[-0.09937882,  0.13276935, -0.4956194 , -0.25396094,  0.70670146,\n",
       "        -0.07848328, -0.38776493, -0.03876241,  0.31383228, -0.28646308,\n",
       "         0.18866056, -0.49345902, -0.27018556, -0.12933706,  0.5066044 ,\n",
       "         0.28965637,  0.30566603, -0.5009914 ,  0.33325362, -0.19029553,\n",
       "        -0.32027036, -1.1237525 , -0.34902465,  0.11343108,  0.4994895 ,\n",
       "         0.0186659 ,  0.01168205, -0.2645499 , -0.2375594 , -0.3047277 ,\n",
       "         0.41372842, -0.08208462, -0.46861744, -0.12807937,  0.08641039,\n",
       "         0.32863796, -0.41861024, -0.9962538 ,  0.47815955,  0.3253174 ,\n",
       "        -0.5656903 ,  0.20907511, -0.10353153, -0.03789073, -0.50455225,\n",
       "         0.00617176,  0.36901692,  0.21651784,  0.53306717, -0.31667882,\n",
       "         0.4547756 ,  0.42521578, -0.08231268, -0.8486399 , -0.39255765,\n",
       "         0.3345214 , -0.47555205, -0.42346537,  0.44202018, -0.719295  ,\n",
       "         0.01972652, -0.4806468 , -0.30009192, -0.6085402 , -0.42445624,\n",
       "        -0.95555484,  0.24177963,  0.38700873, -0.21764618, -0.01419254,\n",
       "        -0.1352271 , -0.30301368,  1.0521522 ,  0.3500883 ,  0.46722287,\n",
       "        -0.3751062 ,  1.3239057 , -0.37918696, -0.05492858, -0.5299963 ,\n",
       "        -0.37877312,  0.12411148,  0.63116884,  0.65331674, -0.20004556,\n",
       "        -0.47591123, -0.46217915,  0.1594757 ,  0.42667186, -0.4564038 ,\n",
       "         0.11285278,  0.5077073 ,  0.4587831 , -0.10185633, -0.75832945,\n",
       "        -0.500999  ,  0.12434817,  0.01001898, -0.08008529, -0.26025742,\n",
       "        -0.15982637, -0.1206394 ,  0.6422468 ,  0.28863022,  0.00316321,\n",
       "         0.1581506 ,  0.32307556, -0.11366087,  0.5267546 , -0.3278587 ,\n",
       "        -0.10424348,  0.6154891 ,  0.39080846,  0.35606396, -0.49383783,\n",
       "         0.31003278, -0.26322362, -0.47986427, -0.21347132,  0.41991314,\n",
       "         0.6081832 , -0.61015123, -0.61026406, -0.4867642 ,  0.09244101,\n",
       "        -0.05607529,  0.3906616 , -0.55749065],\n",
       "       [ 0.3082361 , -0.04643518,  0.31530678, -0.1451903 , -0.24650426,\n",
       "         0.2862406 ,  0.4998077 ,  0.08330014, -0.16326912, -0.13239878,\n",
       "         0.2631776 , -0.35930037,  0.5784127 , -0.26802224,  0.3548415 ,\n",
       "         0.788961  ,  0.42462674, -0.34146255, -0.23778883,  0.287905  ,\n",
       "        -0.17570697,  0.36481997,  0.15243873, -0.01304905,  0.17328982,\n",
       "         0.10434853,  0.24689992, -0.35068384, -0.75953203,  0.12985486,\n",
       "        -0.29037791, -0.09358504,  0.28686738, -0.11281676,  0.09984655,\n",
       "        -0.19313142, -0.13515183, -0.15983501,  0.3398053 , -0.08933081,\n",
       "         0.93811905,  0.27835935,  0.24606566, -0.10754312,  0.7554006 ,\n",
       "        -0.3160494 ,  0.14187522, -0.01439489,  0.28806558,  0.16226962,\n",
       "         0.3956241 ,  0.5011725 ,  0.14628658,  0.03404004, -0.422552  ,\n",
       "         0.44251853,  0.6526794 ,  0.22295454, -0.34347415, -0.08400257,\n",
       "        -0.23959638,  0.30054724,  0.31463042,  0.0775884 , -0.03736903,\n",
       "        -0.51780975, -0.1956532 ,  0.33296034,  0.49911246, -0.5478794 ,\n",
       "         0.35220167,  0.35892606, -0.04616766,  0.15467352, -0.04469838,\n",
       "        -0.01758438,  0.43773133, -0.25901398, -0.91366726, -0.3728386 ,\n",
       "        -0.09373875, -0.33899438, -0.7710897 , -0.42869332,  0.41170743,\n",
       "        -0.30573848, -0.13171977, -0.27842364,  0.25151047,  0.5499865 ,\n",
       "        -0.24305569,  0.5188277 ,  0.35763234,  0.13514611, -0.30141497,\n",
       "        -0.04867395, -0.24309967,  0.19628173, -0.9303037 ,  0.11176456,\n",
       "         0.2291566 , -0.04868929,  0.15716542,  0.23462813, -0.22087179,\n",
       "         0.26331443,  0.48139432,  0.52247024,  0.29455876, -0.03643949,\n",
       "         0.14456084,  0.0911826 , -0.41661382, -0.1306825 , -0.34351695,\n",
       "         0.5874226 ,  0.01126519,  0.46397778,  0.5600471 , -0.33828244,\n",
       "        -0.35372734, -0.02492562, -0.08838727,  0.46473488,  0.64931595,\n",
       "         0.24749252,  0.35632473, -0.50700575],\n",
       "       [ 0.5029237 , -0.2782473 , -0.23632415, -0.07607967, -0.24383362,\n",
       "        -0.16931203, -0.35660097, -0.09575029,  0.07219638, -0.1464395 ,\n",
       "        -0.0828684 , -0.06545619,  0.13100587, -0.4978021 ,  0.03513502,\n",
       "         0.021001  ,  0.09002824,  0.0585682 , -0.3287649 , -0.25655696,\n",
       "         0.29074737, -0.6088632 , -0.0902859 , -0.02569595, -0.11712728,\n",
       "         0.46266362,  0.15243734, -0.07465225,  0.06888714, -0.14200127,\n",
       "        -0.28177673,  0.04400004, -0.00241468, -0.02176224,  0.17289382,\n",
       "         0.20717064, -0.13857369, -0.13000432, -0.2702353 ,  0.3312203 ,\n",
       "         0.21357647,  0.07669906,  0.33672568,  0.00340901, -0.23714453,\n",
       "         0.24073742,  0.02787728, -0.6180536 , -0.11222601, -0.26008722,\n",
       "         0.30385482, -0.26407614,  0.19701324,  0.20389222,  0.03796648,\n",
       "         0.3262829 ,  0.06436741, -0.1603458 ,  0.43392995,  0.16537747,\n",
       "         0.09709759, -0.0418986 ,  0.0571929 , -0.07693917, -0.02020238,\n",
       "         0.5349537 , -0.14373103, -0.22677584, -0.13041028, -0.20366134,\n",
       "         0.35376963,  0.3834834 , -0.04463753,  0.07012562,  0.0608544 ,\n",
       "        -0.27379286, -0.31657898, -0.2125339 ,  0.19995013,  0.21551391,\n",
       "         0.2635867 , -0.10891312, -0.07195966, -0.142137  ,  0.26338378,\n",
       "         0.13053444, -0.15952808,  0.23402213, -0.04831902,  0.21123469,\n",
       "         0.1108494 , -0.26880994, -0.09627521, -0.4291715 , -0.06233297,\n",
       "         0.43144923, -0.47275475,  0.04152708, -0.33659267,  0.02598543,\n",
       "        -0.48942935, -0.11780599,  0.01716281, -0.0681418 ,  0.18827264,\n",
       "         0.02541631,  0.03727648,  0.24917448, -0.34543705,  0.33591375,\n",
       "         0.33824798, -0.08833633,  0.104527  ,  0.08073831,  0.00138176,\n",
       "         0.13706823,  0.09658154, -0.36482948, -0.08174209, -0.2623895 ,\n",
       "         0.03774763,  0.08557168,  0.05224385, -0.22095434,  0.4558422 ,\n",
       "         0.07866239,  0.45996404, -0.43283275],\n",
       "       [ 0.12558448,  0.08249125, -0.01137581, -0.0565468 , -0.13247393,\n",
       "         0.20374857,  0.27498814, -0.05519968, -0.0314747 ,  0.00174558,\n",
       "         0.01202216,  0.3343651 , -0.3899583 ,  0.0269114 , -0.27574596,\n",
       "         0.04587578,  0.04523947, -0.00916562,  0.01192567, -0.4625246 ,\n",
       "         0.04589862, -0.32373726, -0.09152357, -0.07073425, -0.19676672,\n",
       "         0.32721815, -0.069775  ,  0.3017334 , -0.07431758,  0.12265722,\n",
       "        -0.41511557, -0.11840596,  0.056988  ,  0.1461538 ,  0.06538814,\n",
       "         0.10893309,  0.07254578, -0.1783894 ,  0.19501142,  0.06443397,\n",
       "         0.222579  , -0.49989402, -0.07699593,  0.24843492,  0.37782696,\n",
       "         0.07725243, -0.07410749, -0.3183731 , -0.00600184, -0.06684846,\n",
       "         0.10012018, -0.3403462 , -0.09671468,  0.0804899 ,  0.30824423,\n",
       "        -0.20622185, -0.3460566 , -0.02984843, -0.22506951, -0.40110385,\n",
       "         0.46987033, -0.33806017,  0.11967526, -0.41121328, -0.15296234,\n",
       "         0.04569807, -0.02665147, -0.3716281 ,  0.0625355 , -0.05777796,\n",
       "        -0.23818147,  0.03003656,  0.01483386,  0.04625055, -0.33842707,\n",
       "         0.2895579 ,  0.00480596,  0.01537075, -0.02502968,  0.09600353,\n",
       "        -0.2442903 , -0.44713315,  0.1328472 , -0.18578328,  0.2590749 ,\n",
       "         0.2388421 , -0.03215555,  0.33534735, -0.04081371,  0.00972031,\n",
       "         0.40651092, -0.27336687, -0.34915507, -0.18060285, -0.01932585,\n",
       "         0.2912447 , -0.09722202, -0.36755756,  0.02137616, -0.07155566,\n",
       "         0.09560395, -0.03898058, -0.21142052, -0.19253793,  0.00228991,\n",
       "        -0.23895234, -0.3134482 ,  0.15815587,  0.00395685, -0.05049041,\n",
       "         0.35993832, -0.12116235,  0.05440868, -0.12953766,  0.25905168,\n",
       "        -0.11330942,  0.00508684, -0.09742784, -0.20192768, -0.0991459 ,\n",
       "        -0.13203378,  0.05281419,  0.05345431,  0.27001825,  0.38022915,\n",
       "         0.04136091,  0.27624777, -0.22049065]], dtype=float32)>"
      ]
     },
     "execution_count": 158,
     "metadata": {},
     "output_type": "execute_result"
    }
   ],
   "source": [
    "context_embs[:10]"
   ]
  },
  {
   "cell_type": "markdown",
   "id": "3a4113e6",
   "metadata": {},
   "source": [
    "# PCA"
   ]
  },
  {
   "cell_type": "code",
   "execution_count": 159,
   "id": "38a6d684",
   "metadata": {},
   "outputs": [],
   "source": [
    "from sklearn.decomposition import PCA\n",
    "\n",
    "def pca_dims_of_embs(embs):\n",
    "\n",
    "    pca = PCA(n_components=2)\n",
    "    reduced_embeddings = pca.fit_transform(embs)\n",
    "    print(\"Reduced shape:\", reduced_embeddings.shape)  # (num_sentences, 2)\n",
    "    return reduced_embeddings\n",
    "    "
   ]
  },
  {
   "cell_type": "code",
   "execution_count": 160,
   "id": "e53745b1",
   "metadata": {},
   "outputs": [
    {
     "name": "stdout",
     "output_type": "stream",
     "text": [
      "Reduced shape: (4, 2)\n"
     ]
    }
   ],
   "source": [
    "reduced_embeddings_target=pca_dims_of_embs(target_embs)"
   ]
  },
  {
   "cell_type": "code",
   "execution_count": 161,
   "id": "ea4162b5",
   "metadata": {},
   "outputs": [
    {
     "name": "stdout",
     "output_type": "stream",
     "text": [
      "Reduced shape: (4, 2)\n"
     ]
    }
   ],
   "source": [
    "reduced_embeddings_context=pca_dims_of_embs(context_embs)"
   ]
  },
  {
   "cell_type": "markdown",
   "id": "12e73547",
   "metadata": {},
   "source": [
    "# Plot their relation in vector space"
   ]
  },
  {
   "cell_type": "code",
   "execution_count": 165,
   "id": "5e0f3e45",
   "metadata": {},
   "outputs": [],
   "source": [
    "import matplotlib.pyplot as plt\n",
    "\n",
    "def plot_vector_embs(reduced_embeddings, decoded, title):\n",
    "    plt.figure(figsize=(8,6))\n",
    "    plt.scatter(reduced_embeddings[:,0], reduced_embeddings[:,1], color='blue')\n",
    "\n",
    "    # Annotate points with the sentences\n",
    "    for i, sentence in enumerate(reduced_embeddings):\n",
    "        plt.annotate(decoded[i], (reduced_embeddings[i,0], reduced_embeddings[i,1]))\n",
    "\n",
    "    plt.title(title)\n",
    "    plt.xlabel(\"PCA component 1\")\n",
    "    plt.ylabel(\"PCA component 2\")\n",
    "    plt.grid(True)\n",
    "    plt.show()\n"
   ]
  },
  {
   "cell_type": "markdown",
   "id": "f3125b66",
   "metadata": {},
   "source": [
    "# <font color=\"red\"> Target Vector Space </font>"
   ]
  },
  {
   "cell_type": "code",
   "execution_count": 166,
   "id": "a727256c",
   "metadata": {},
   "outputs": [
    {
     "data": {
      "image/png": "[encoded data removed]",
      "text/plain": [
       "<Figure size 800x600 with 1 Axes>"
      ]
     },
     "metadata": {},
     "output_type": "display_data"
    }
   ],
   "source": [
    "plot_vector_embs(reduced_embeddings=reduced_embeddings_target,\n",
    "                 decoded=decoded,\n",
    "                 title=\"Words in Sentence Target Embeddings visualized in 2D\")"
   ]
  },
  {
   "cell_type": "markdown",
   "id": "3c55863f",
   "metadata": {},
   "source": [
    "# <font color=\"red\"> Context Vector Space </font>\n",
    "if two words are contextually matched or similar, then we can see them lie very closely in vector space: here [deep, learning]"
   ]
  },
  {
   "cell_type": "code",
   "execution_count": 167,
   "id": "9bc3011a",
   "metadata": {},
   "outputs": [
    {
     "data": {
      "image/png": "[encoded data removed]",
      "text/plain": [
       "<Figure size 800x600 with 1 Axes>"
      ]
     },
     "metadata": {},
     "output_type": "display_data"
    }
   ],
   "source": [
    "plot_vector_embs(reduced_embeddings=reduced_embeddings_context,\n",
    "                 decoded=decoded,\n",
    "                 title=\"Words in Sentence Context Embeddings visualized in 2D\")"
   ]
  },
  {
   "cell_type": "code",
   "execution_count": null,
   "id": "36049d9f",
   "metadata": {},
   "outputs": [],
   "source": []
  }
 ],
 "metadata": {
  "kernelspec": {
   "display_name": ".venv",
   "language": "python",
   "name": "python3"
  },
  "language_info": {
   "codemirror_mode": {
    "name": "ipython",
    "version": 3
   },
   "file_extension": ".py",
   "mimetype": "text/x-python",
   "name": "python",
   "nbconvert_exporter": "python",
   "pygments_lexer": "ipython3",
   "version": "3.12.10"
  }
 },
 "nbformat": 4,
 "nbformat_minor": 5
}

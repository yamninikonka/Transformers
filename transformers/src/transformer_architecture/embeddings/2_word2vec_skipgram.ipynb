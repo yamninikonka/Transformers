{
 "cells": [
  {
   "cell_type": "markdown",
   "id": "91b98c1e",
   "metadata": {},
   "source": [
    "#### Static Word Embedding\n",
    "### **word2vec**\n",
    "\n",
    "there are two variants in word2vec models\n",
    "\n",
    "[to prepare embedding layers weights training\n",
    "two variants varies in their datapipeline, other than model architecture and training are mostly similar]: #\n",
    "\n",
    "+ continuous bag of words [CBOW] \n",
    "    - trying to minimize the loss function for given training sample prepared using the target word and neighboring words (context)\n",
    "+ continuous skipgram\n",
    "    - opposite to CBOW, trying to find the best parameters of embedding layers for given the neighboring words (context) and target word[a bit unclear, will be updated soon]\n",
    "\n",
    "Sources:\n",
    "- [Good Starting Point - Word2Vec - Tensorflow](https://www.tensorflow.org/text/tutorials/word2vec)\n",
    "- [Great Source On NLP - Standford](https://web.stanford.edu/class/cs224n/)\n",
    "- [Maths behind Word2Vec](https://web.stanford.edu/class/cs224n/readings/cs224n-2019-notes01-wordvecs1.pdf)\n",
    "- [Candidate Sampling - Negative Sampling](https://www.tensorflow.org/extras/candidate_sampling.pdf)\n",
    "- [Not important - tf.data.Dataset](https://blog.tensorflow.org/2019/02/introducing-tensorflow-datasets.html?_gl=1*1jlc6kv*_ga*MTMyODM2NTQ2Ni4xNzU0NDU3MzI4*_ga_W0YLR4190T*czE3NTUxNzE2MjckbzkkZzEkdDE3NTUxNzE2OTkkajU5JGwwJGgw)"
   ]
  },
  {
   "cell_type": "code",
   "execution_count": 1,
   "id": "f45f180e",
   "metadata": {},
   "outputs": [],
   "source": [
    "import io\n",
    "import re\n",
    "from tqdm import tqdm\n",
    "import string\n",
    "import random\n",
    "\n",
    "import numpy as np\n",
    "\n",
    "import tensorflow as tf\n",
    "from tensorflow.keras import layers"
   ]
  },
  {
   "cell_type": "markdown",
   "id": "f3973dfc",
   "metadata": {},
   "source": [
    "# <font color=\"pink\"> Skipgram </font>"
   ]
  },
  {
   "cell_type": "markdown",
   "id": "ac59eae5",
   "metadata": {},
   "source": [
    "## <font color=\"brown\"> Own Implementation</font>\n",
    "only for single sentence and can be scaled, however little bit preparation is necessary before"
   ]
  },
  {
   "cell_type": "code",
   "execution_count": 2,
   "id": "b5f23e8c",
   "metadata": {},
   "outputs": [
    {
     "data": {
      "text/plain": [
       "['the',\n",
       " 'wind',\n",
       " 'has',\n",
       " 'four',\n",
       " 'directions',\n",
       " 'and',\n",
       " 'the',\n",
       " 'sun',\n",
       " 'raises',\n",
       " 'in',\n",
       " 'one']"
      ]
     },
     "execution_count": 2,
     "metadata": {},
     "output_type": "execute_result"
    }
   ],
   "source": [
    "example = \"The Wind has four directions and the Sun raises in one\"\n",
    "tokens = example.lower().split()\n",
    "tokens"
   ]
  },
  {
   "cell_type": "code",
   "execution_count": 3,
   "id": "dbe651fa",
   "metadata": {},
   "outputs": [
    {
     "data": {
      "text/plain": [
       "{'<pad>': 0,\n",
       " 'the': 1,\n",
       " 'wind': 2,\n",
       " 'has': 3,\n",
       " 'four': 4,\n",
       " 'directions': 5,\n",
       " 'and': 6,\n",
       " 'sun': 7,\n",
       " 'raises': 8,\n",
       " 'in': 9,\n",
       " 'one': 10}"
      ]
     },
     "execution_count": 3,
     "metadata": {},
     "output_type": "execute_result"
    }
   ],
   "source": [
    "# encoding\n",
    "vocab, index = {}, 1\n",
    "vocab['<pad>'] = 0\n",
    "for token in tokens:\n",
    "    if token not in vocab:\n",
    "        vocab[token] = index\n",
    "        index += 1\n",
    "vocab"
   ]
  },
  {
   "cell_type": "code",
   "execution_count": 4,
   "id": "13a4e7bb",
   "metadata": {},
   "outputs": [
    {
     "data": {
      "text/plain": [
       "{0: '<pad>',\n",
       " 1: 'the',\n",
       " 2: 'wind',\n",
       " 3: 'has',\n",
       " 4: 'four',\n",
       " 5: 'directions',\n",
       " 6: 'and',\n",
       " 7: 'sun',\n",
       " 8: 'raises',\n",
       " 9: 'in',\n",
       " 10: 'one'}"
      ]
     },
     "execution_count": 4,
     "metadata": {},
     "output_type": "execute_result"
    }
   ],
   "source": [
    "# decoding\n",
    "inverse_vocab = {v: k for k, v in vocab.items()}\n",
    "inverse_vocab"
   ]
  },
  {
   "cell_type": "code",
   "execution_count": 5,
   "id": "1602bd6c",
   "metadata": {},
   "outputs": [],
   "source": [
    "# common for positive and negative pairs\n",
    "window_size = 2\n",
    "target_index = 7"
   ]
  },
  {
   "cell_type": "code",
   "execution_count": 6,
   "id": "83e5f919",
   "metadata": {},
   "outputs": [
    {
     "name": "stderr",
     "output_type": "stream",
     "text": [
      "0it [00:00, ?it/s]\n",
      "0it [00:00, ?it/s]\n",
      "0it [00:00, ?it/s]\n",
      "0it [00:00, ?it/s]\n",
      "0it [00:00, ?it/s]\n",
      "0it [00:00, ?it/s]\n"
     ]
    },
    {
     "data": {
      "text/plain": [
       "[(7, 5), (7, 6), (7, 8), (7, 9)]"
      ]
     },
     "execution_count": 6,
     "metadata": {},
     "output_type": "execute_result"
    }
   ],
   "source": [
    "# positive context pairs\n",
    "positive_context_pairs = []\n",
    "c_word = 0\n",
    "while(tqdm(True)):\n",
    "    context_pos = (target_index-window_size)+c_word\n",
    "    if context_pos<1:\n",
    "        context_pos = 1\n",
    "        c_word += 1\n",
    "    if (context_pos>0 and context_pos<len(vocab)):\n",
    "        if (context_pos<(target_index-window_size) or context_pos>(target_index+window_size)):\n",
    "            break\n",
    "        if target_index!=context_pos:\n",
    "            positive_context_pairs.append((target_index, context_pos))\n",
    "        c_word += 1\n",
    "    else:\n",
    "        break\n",
    "\n",
    "positive_context_pairs"
   ]
  },
  {
   "cell_type": "code",
   "execution_count": 7,
   "id": "63fb278b",
   "metadata": {},
   "outputs": [
    {
     "name": "stdout",
     "output_type": "stream",
     "text": [
      "The Wind has four directions and the Sun raises in one || - target:  sun\n",
      "(7, 5) - (sun, directions)\n",
      "(7, 6) - (sun, and)\n",
      "(7, 8) - (sun, raises)\n",
      "(7, 9) - (sun, in)\n"
     ]
    }
   ],
   "source": [
    "print(example, '|| - target: ', inverse_vocab[target_index])\n",
    "for each in positive_context_pairs:\n",
    "    print(f\"{each} - ({inverse_vocab[each[0]]}, {inverse_vocab[each[1]]})\")"
   ]
  },
  {
   "cell_type": "code",
   "execution_count": 8,
   "id": "0b43baac",
   "metadata": {},
   "outputs": [
    {
     "name": "stderr",
     "output_type": "stream",
     "text": [
      "0it [00:00, ?it/s]\n",
      "0it [00:00, ?it/s]\n",
      "0it [00:00, ?it/s]\n",
      "0it [00:00, ?it/s]\n",
      "0it [00:00, ?it/s]\n",
      "0it [00:00, ?it/s]\n",
      "0it [00:00, ?it/s]\n"
     ]
    },
    {
     "data": {
      "text/plain": [
       "[(7, 3), (7, 4), (7, 4), (7, 1), (7, 3)]"
      ]
     },
     "execution_count": 8,
     "metadata": {},
     "output_type": "execute_result"
    }
   ],
   "source": [
    "# negative context pairs\n",
    "# repeation is allowed\n",
    "num_n = 5 # number of negative pairs\n",
    "negative_context_pairs = []\n",
    "c_word = 0\n",
    "pos_range=[target_index-window_size, target_index+window_size]\n",
    "while(tqdm(True)):\n",
    "    context_pos = random.randint(0, len(vocab)-1) #len(vocab)-1, bcz it is inclusive\n",
    "    if context_pos<1: # padding is excluded\n",
    "        continue\n",
    "    # if (context_pos>0 and context_pos<len(vocab)):\n",
    "    if (context_pos<(target_index-window_size) or context_pos>(target_index+window_size)):\n",
    "        negative_context_pairs.append((target_index, context_pos))\n",
    "    \n",
    "    if len(negative_context_pairs)>num_n-1:\n",
    "        break\n",
    "    # c_word += 1\n",
    "    \n",
    "\n",
    "negative_context_pairs"
   ]
  },
  {
   "cell_type": "code",
   "execution_count": 9,
   "id": "d8863412",
   "metadata": {},
   "outputs": [
    {
     "name": "stdout",
     "output_type": "stream",
     "text": [
      "The Wind has four directions and the Sun raises in one || - target:  sun\n",
      "(7, 3) - (sun, has)\n",
      "(7, 4) - (sun, four)\n",
      "(7, 4) - (sun, four)\n",
      "(7, 1) - (sun, the)\n",
      "(7, 3) - (sun, has)\n"
     ]
    }
   ],
   "source": [
    "print(example, '|| - target: ', inverse_vocab[target_index])\n",
    "for each in negative_context_pairs:\n",
    "    print(f\"{each} - ({inverse_vocab[each[0]]}, {inverse_vocab[each[1]]})\")"
   ]
  },
  {
   "cell_type": "code",
   "execution_count": 10,
   "id": "d0fa4bb6",
   "metadata": {},
   "outputs": [
    {
     "data": {
      "text/plain": [
       "[1, 2, 3, 4, 5, 6, 1, 7, 8, 9, 10]"
      ]
     },
     "execution_count": 10,
     "metadata": {},
     "output_type": "execute_result"
    }
   ],
   "source": [
    "example_sequence = [vocab[word] for word in tokens]\n",
    "example_sequence"
   ]
  },
  {
   "cell_type": "markdown",
   "id": "237e52c0",
   "metadata": {},
   "source": [
    "## <font color=\"brown\">Tensorflow Example</font>\n",
    "#### Skipgram for 1 sentence"
   ]
  },
  {
   "cell_type": "code",
   "execution_count": 11,
   "id": "71e2f3e8",
   "metadata": {},
   "outputs": [
    {
     "name": "stdout",
     "output_type": "stream",
     "text": [
      "38\n",
      "[[4, 5], [9, 7], [4, 3], [8, 10], [9, 8], [8, 1], [4, 6], [3, 1], [7, 6], [8, 7]]\n"
     ]
    }
   ],
   "source": [
    "window_size = 2\n",
    "positive_skip_grams = tf.keras.preprocessing.sequence.skipgrams(\n",
    "    example_sequence,\n",
    "    vocabulary_size=len(vocab),  # vocal={'word': 1, 'sun': 2} etc, see above\n",
    "    window_size=window_size,\n",
    "    negative_samples=0,\n",
    "    seed=42\n",
    ")\n",
    "print(len(positive_skip_grams[0]))\n",
    "print(positive_skip_grams[0][:10])"
   ]
  },
  {
   "cell_type": "code",
   "execution_count": 12,
   "id": "4c55c8d1",
   "metadata": {},
   "outputs": [
    {
     "name": "stdout",
     "output_type": "stream",
     "text": [
      "(4, 5): (four, directions)\n",
      "(9, 7): (in, sun)\n",
      "(4, 3): (four, has)\n",
      "(8, 10): (raises, one)\n",
      "(9, 8): (in, raises)\n"
     ]
    }
   ],
   "source": [
    "for target, context in positive_skip_grams[0][:5]:\n",
    "  print(f\"({target}, {context}): ({inverse_vocab[target]}, {inverse_vocab[context]})\")"
   ]
  },
  {
   "cell_type": "code",
   "execution_count": 13,
   "id": "3084afcf",
   "metadata": {},
   "outputs": [
    {
     "name": "stdout",
     "output_type": "stream",
     "text": [
      "['has', 'the', 'and', 'wind']\n"
     ]
    }
   ],
   "source": [
    "target_word, context_word = positive_skip_grams[0][0]\n",
    "# print(target_word, context_word)\n",
    "num_ns = 4\n",
    "\n",
    "context_class = tf.reshape(tf.constant(context_word, dtype=\"int64\"), (1, 1))\n",
    "# print(context_word)\n",
    "negative_sampling_candidates=tf.random.log_uniform_candidate_sampler(\n",
    "    true_classes=context_class,\n",
    "    num_true=1,\n",
    "    num_sampled=num_ns,\n",
    "    unique=True,\n",
    "    range_max=len(vocab),\n",
    "    seed=42,\n",
    "    name='negative_sampling'\n",
    ")\n",
    "# print(negative_sampling_candidates)\n",
    "print([inverse_vocab[index.numpy()] for index in negative_sampling_candidates[0]])"
   ]
  },
  {
   "cell_type": "code",
   "execution_count": 14,
   "id": "f83a1314",
   "metadata": {},
   "outputs": [],
   "source": [
    "# now prepare an tuple of one single training example\n",
    "\n",
    "squeezed_context_class = tf.squeeze(context_class, 1)\n",
    "\n",
    "context = tf.concat([squeezed_context_class, negative_sampling_candidates[0]], 0)\n",
    "\n",
    "label = tf.constant([1]+[0]*num_ns, dtype=\"int64\")\n",
    "\n",
    "target = target_word"
   ]
  },
  {
   "cell_type": "code",
   "execution_count": 15,
   "id": "94bce4f8",
   "metadata": {},
   "outputs": [
    {
     "name": "stdout",
     "output_type": "stream",
     "text": [
      "target_index    : 4\n",
      "target_word     : four\n",
      "context_indices : [5 3 1 6 2]\n",
      "context_words   : ['directions', 'has', 'the', 'and', 'wind']\n",
      "label           : [1 0 0 0 0]\n"
     ]
    }
   ],
   "source": [
    "print(f\"target_index    : {target}\")\n",
    "print(f\"target_word     : {inverse_vocab[target_word]}\")\n",
    "print(f\"context_indices : {context}\")\n",
    "print(f\"context_words   : {[inverse_vocab[c.numpy()] for c in context]}\")\n",
    "print(f\"label           : {label}\")"
   ]
  },
  {
   "cell_type": "code",
   "execution_count": 16,
   "id": "8ff73fff",
   "metadata": {},
   "outputs": [
    {
     "name": "stdout",
     "output_type": "stream",
     "text": [
      "target  : 4\n",
      "context : tf.Tensor([5 3 1 6 2], shape=(5,), dtype=int64)\n",
      "label   : tf.Tensor([1 0 0 0 0], shape=(5,), dtype=int64)\n"
     ]
    }
   ],
   "source": [
    "print(\"target  :\", target)\n",
    "print(\"context :\", context)\n",
    "print(\"label   :\", label)"
   ]
  },
  {
   "cell_type": "code",
   "execution_count": 17,
   "id": "fe666275",
   "metadata": {},
   "outputs": [
    {
     "name": "stdout",
     "output_type": "stream",
     "text": [
      "[0.00315225 0.00315225 0.00547597 0.00741556 0.00912817 0.01068435\n",
      " 0.01212381 0.01347162 0.01474487 0.0159558 ]\n"
     ]
    }
   ],
   "source": [
    "# sampling_table[i] denotes the probability of sampling the i-th most common word in a dataset. \n",
    "# The function assumes a Zipf's distribution of the word frequencies for sampling\n",
    "sampling_table = tf.keras.preprocessing.sequence.make_sampling_table(size=10)\n",
    "print(sampling_table)"
   ]
  },
  {
   "cell_type": "code",
   "execution_count": 18,
   "id": "07b63168",
   "metadata": {},
   "outputs": [
    {
     "name": "stdout",
     "output_type": "stream",
     "text": [
      "[0.00315225 0.00315225 0.00547597 0.00741556 0.00912817 0.01068435\n",
      " 0.01212381 0.01347162 0.01474487 0.0159558  0.0171136  0.01822533\n",
      " 0.01929662 0.02033198 0.02133515 0.02230924 0.02325687 0.02418031\n",
      " 0.02508148 0.02596208]\n"
     ]
    }
   ],
   "source": [
    "sampling_table = tf.keras.preprocessing.sequence.make_sampling_table(size=20)\n",
    "print(sampling_table)"
   ]
  },
  {
   "cell_type": "markdown",
   "id": "5e83e907",
   "metadata": {},
   "source": [
    "#### Generating Training Data"
   ]
  },
  {
   "cell_type": "code",
   "execution_count": 19,
   "id": "e4698ae0",
   "metadata": {},
   "outputs": [],
   "source": [
    "# Generates skip-gram pairs with negative sampling for a list of sequences\n",
    "# (int-encoded sentences) based on window size, number of negative samples\n",
    "# and vocabulary size.\n",
    "def generate_training_data(sequences, window_size, num_ns, vocab_size, seed):\n",
    "  # Elements of each training example are appended to these lists.\n",
    "  targets, contexts, labels = [], [], []\n",
    "\n",
    "  # Build the sampling table for `vocab_size` tokens.\n",
    "  sampling_table = tf.keras.preprocessing.sequence.make_sampling_table(vocab_size)\n",
    "\n",
    "  # Iterate over all sequences (sentences) in the dataset.\n",
    "  for sequence in tqdm(sequences):\n",
    "\n",
    "    # Generate positive skip-gram pairs for a sequence (sentence).\n",
    "    positive_skip_grams, _ = tf.keras.preprocessing.sequence.skipgrams(\n",
    "          sequence,\n",
    "          vocabulary_size=vocab_size,\n",
    "          sampling_table=sampling_table,\n",
    "          window_size=window_size,\n",
    "          negative_samples=0,\n",
    "          seed=42)\n",
    "\n",
    "    # Iterate over each positive skip-gram pair to produce training examples\n",
    "    # with a positive context word and negative samples.\n",
    "    for target_word, context_word in positive_skip_grams:\n",
    "      context_class = tf.expand_dims(\n",
    "          tf.constant([context_word], dtype=\"int64\"), 1)\n",
    "      negative_sampling_candidates, _, _ = tf.random.log_uniform_candidate_sampler(\n",
    "          true_classes=context_class,\n",
    "          num_true=1,\n",
    "          num_sampled=num_ns,\n",
    "          unique=True,\n",
    "          range_max=vocab_size,\n",
    "          seed=seed,\n",
    "          name=\"negative_sampling\")\n",
    "\n",
    "      # Build context and label vectors (for one target word)\n",
    "      context = tf.concat([tf.squeeze(context_class,1), negative_sampling_candidates], 0)\n",
    "      label = tf.constant([1] + [0]*num_ns, dtype=\"int64\")\n",
    "\n",
    "      # Append each element from the training example to global lists.\n",
    "      targets.append(target_word)\n",
    "      contexts.append(context)\n",
    "      labels.append(label)\n",
    "\n",
    "  return targets, contexts, labels"
   ]
  },
  {
   "cell_type": "markdown",
   "id": "107e611a",
   "metadata": {},
   "source": [
    "#### Preparing Dataset for Training"
   ]
  },
  {
   "cell_type": "code",
   "execution_count": 20,
   "id": "2533bdfe",
   "metadata": {},
   "outputs": [],
   "source": [
    "path_to_file = tf.keras.utils.get_file('shakespeare.txt', 'https://storage.googleapis.com/download.tensorflow.org/data/shakespeare.txt')"
   ]
  },
  {
   "cell_type": "code",
   "execution_count": 21,
   "id": "427b4249",
   "metadata": {},
   "outputs": [
    {
     "name": "stdout",
     "output_type": "stream",
     "text": [
      "First Citizen:\n",
      "Before we proceed any further, hear me speak.\n",
      "\n",
      "All:\n",
      "Speak, speak.\n",
      "\n",
      "First Citizen:\n",
      "You are all resolved rather to die than to famish?\n",
      "\n",
      "All:\n",
      "Resolved. resolved.\n",
      "\n",
      "First Citizen:\n",
      "First, you know Caius Marcius is chief enemy to the people.\n",
      "\n",
      "All:\n",
      "We know't, we know't.\n",
      "\n",
      "First Citizen:\n",
      "Let us kill him, and we'll have corn at our own price.\n"
     ]
    }
   ],
   "source": [
    "with open(path_to_file) as f:\n",
    "  lines = f.read().splitlines()\n",
    "for line in lines[:20]:\n",
    "  print(line)"
   ]
  },
  {
   "cell_type": "code",
   "execution_count": 22,
   "id": "200be92e",
   "metadata": {},
   "outputs": [],
   "source": [
    "text_ds = tf.data.TextLineDataset(path_to_file).filter(lambda x: tf.cast(tf.strings.length(x), bool))"
   ]
  },
  {
   "cell_type": "code",
   "execution_count": 23,
   "id": "4d6722f3",
   "metadata": {},
   "outputs": [
    {
     "name": "stdout",
     "output_type": "stream",
     "text": [
      "First Citizen:\n",
      "Before we proceed any further, hear me speak.\n",
      "All:\n",
      "Speak, speak.\n",
      "First Citizen:\n",
      "You are all resolved rather to die than to famish?\n",
      "All:\n",
      "Resolved. resolved.\n",
      "First Citizen:\n",
      "First, you know Caius Marcius is chief enemy to the people.\n",
      "All:\n",
      "We know't, we know't.\n",
      "First Citizen:\n",
      "Let us kill him, and we'll have corn at our own price.\n",
      "Is't a verdict?\n",
      "All:\n",
      "No more talking on't; let it be done: away, away!\n",
      "Second Citizen:\n",
      "One word, good citizens.\n",
      "First Citizen:\n",
      "We are accounted poor citizens, the patricians good.\n"
     ]
    }
   ],
   "source": [
    "import itertools\n",
    "for ele in itertools.islice(text_ds.as_numpy_iterator(), 21):\n",
    "    print(ele.decode('utf-8'))\n",
    "    "
   ]
  },
  {
   "cell_type": "code",
   "execution_count": 24,
   "id": "1ddca425",
   "metadata": {},
   "outputs": [
    {
     "name": "stdout",
     "output_type": "stream",
     "text": [
      "25670\n"
     ]
    }
   ],
   "source": [
    "# Looking into corpus for total unique words it has\n",
    "unique_words = set()\n",
    "for text in text_ds.as_numpy_iterator():\n",
    "    unique_words.update(text.decode().split())\n",
    "vocab_size = len(unique_words)\n",
    "print(vocab_size)\n"
   ]
  },
  {
   "cell_type": "markdown",
   "id": "b566f6ed",
   "metadata": {},
   "source": [
    "# <font color=\"red\"> Preprocessing </font>\n",
    "### Step 1: Vectorize the corpus & Build Vocabulary"
   ]
  },
  {
   "cell_type": "code",
   "execution_count": 25,
   "id": "b9be5fd5",
   "metadata": {},
   "outputs": [],
   "source": [
    "# Now, create a custom standardization function to lowercase the text and\n",
    "# remove punctuation.\n",
    "def custom_standardization(input_data):\n",
    "  lowercase = tf.strings.lower(input_data)\n",
    "  return tf.strings.regex_replace(lowercase,\n",
    "                                  '[%s]' % re.escape(string.punctuation), '')\n",
    "\n",
    "\n",
    "# Define the vocabulary size and the number of words in a sequence.\n",
    "vocab_size = 4096  # from the layer.adapt, will give the vocal size=12850, to see this comment max_tokens argument\n",
    "sequence_length = 10\n",
    "\n",
    "# Use the `TextVectorization` layer to normalize, split, and map strings to\n",
    "# integers. Set the `output_sequence_length` length to pad all samples to the\n",
    "# same length.\n",
    "vectorize_layer = layers.TextVectorization(\n",
    "    standardize=custom_standardization,\n",
    "    max_tokens=vocab_size,\n",
    "    output_mode='int',\n",
    "    # output_sequence_length=sequence_length\n",
    "    )"
   ]
  },
  {
   "cell_type": "markdown",
   "id": "7fafd749",
   "metadata": {},
   "source": [
    "### <font color=\"yellow\">Call TextVectorization.adapt on the text dataset to create vocabulary</font>"
   ]
  },
  {
   "cell_type": "code",
   "execution_count": 26,
   "id": "d30fd355",
   "metadata": {},
   "outputs": [],
   "source": [
    "vectorize_layer.adapt(text_ds.batch(1024))"
   ]
  },
  {
   "cell_type": "markdown",
   "id": "6323023e",
   "metadata": {},
   "source": [
    "#### <font color=\"green\">Once the state of the layer has been adapted to represent the text corpus, the vocabulary can be accessed with TextVectorization.get_vocabulary. This function returns a list of all vocabulary tokens sorted (descending) by their frequency.</font>"
   ]
  },
  {
   "cell_type": "code",
   "execution_count": 27,
   "id": "2d3c5e3e",
   "metadata": {},
   "outputs": [
    {
     "name": "stdout",
     "output_type": "stream",
     "text": [
      "['', '[UNK]', np.str_('the'), np.str_('and'), np.str_('to'), np.str_('i'), np.str_('of'), np.str_('you'), np.str_('my'), np.str_('a'), np.str_('that'), np.str_('in'), np.str_('is'), np.str_('not'), np.str_('for'), np.str_('with'), np.str_('me'), np.str_('it'), np.str_('be'), np.str_('your')]\n",
      "4096\n"
     ]
    }
   ],
   "source": [
    "# Save the created vocabulary for reference.\n",
    "inverse_vocab = vectorize_layer.get_vocabulary()\n",
    "print(inverse_vocab[:20])\n",
    "print(len(inverse_vocab))  # size of vocab"
   ]
  },
  {
   "cell_type": "markdown",
   "id": "13114960",
   "metadata": {},
   "source": [
    "#### tokenzing the all sentences in the training corpus using vocabulary from vectorize_layer"
   ]
  },
  {
   "cell_type": "code",
   "execution_count": 28,
   "id": "b6f0150c",
   "metadata": {},
   "outputs": [],
   "source": [
    "# Vectorize the data in text_ds.\n",
    "text_vector_ds = text_ds.batch(1024).prefetch(tf.data.AUTOTUNE).map(vectorize_layer).unbatch()"
   ]
  },
  {
   "cell_type": "code",
   "execution_count": 29,
   "id": "3b67e720",
   "metadata": {},
   "outputs": [
    {
     "name": "stdout",
     "output_type": "stream",
     "text": [
      "<_UnbatchDataset element_spec=TensorSpec(shape=(None,), dtype=tf.int64, name=None)>\n"
     ]
    }
   ],
   "source": [
    "print(text_vector_ds)"
   ]
  },
  {
   "cell_type": "code",
   "execution_count": 30,
   "id": "ee188e70",
   "metadata": {},
   "outputs": [
    {
     "name": "stdout",
     "output_type": "stream",
     "text": [
      "32777\n"
     ]
    }
   ],
   "source": [
    "sequences = list(text_vector_ds.as_numpy_iterator())\n",
    "print(len(sequences))"
   ]
  },
  {
   "cell_type": "code",
   "execution_count": 31,
   "id": "33e7fa77",
   "metadata": {},
   "outputs": [
    {
     "name": "stdout",
     "output_type": "stream",
     "text": [
      "[ 89 270   0   0   0   0   0   0   0   0   0   0] => [np.str_('first'), np.str_('citizen'), '', '', '', '', '', '', '', '', '', '']\n",
      "[138  36 982 144 673 125  16 106   0   0   0   0] => [np.str_('before'), np.str_('we'), np.str_('proceed'), np.str_('any'), np.str_('further'), np.str_('hear'), np.str_('me'), np.str_('speak'), '', '', '', '']\n",
      "[34  0  0  0  0  0  0  0  0  0  0  0] => [np.str_('all'), '', '', '', '', '', '', '', '', '', '', '']\n",
      "[106 106   0   0   0   0   0   0   0   0   0   0] => [np.str_('speak'), np.str_('speak'), '', '', '', '', '', '', '', '', '', '']\n",
      "[ 89 270   0   0   0   0   0   0   0   0   0   0] => [np.str_('first'), np.str_('citizen'), '', '', '', '', '', '', '', '', '', '']\n"
     ]
    }
   ],
   "source": [
    "for seq in sequences[:5]:\n",
    "    print(f\"{seq} => {[inverse_vocab[i] for i in seq]}\")"
   ]
  },
  {
   "cell_type": "markdown",
   "id": "0dd577b4",
   "metadata": {},
   "source": [
    "### Step 2: Generate training examples from sequences[tokenized using vocabulary]"
   ]
  },
  {
   "cell_type": "code",
   "execution_count": 32,
   "id": "4ca4eb39",
   "metadata": {},
   "outputs": [
    {
     "name": "stderr",
     "output_type": "stream",
     "text": [
      "100%|██████████| 32777/32777 [00:56<00:00, 580.74it/s]\n"
     ]
    },
    {
     "name": "stdout",
     "output_type": "stream",
     "text": [
      "\n",
      "\n",
      "targets.shape: (107681,)\n",
      "contexts.shape: (107681, 5)\n",
      "labels.shape: (107681, 5)\n"
     ]
    }
   ],
   "source": [
    "targets, contexts, labels = generate_training_data(\n",
    "    sequences=sequences,\n",
    "    window_size=2,\n",
    "    num_ns=4,\n",
    "    vocab_size=vocab_size,\n",
    "    seed=42)\n",
    "\n",
    "targets = np.array(targets)\n",
    "contexts = np.array(contexts)\n",
    "labels = np.array(labels)\n",
    "\n",
    "print('\\n')\n",
    "print(f\"targets.shape: {targets.shape}\")\n",
    "print(f\"contexts.shape: {contexts.shape}\")\n",
    "print(f\"labels.shape: {labels.shape}\")"
   ]
  },
  {
   "cell_type": "code",
   "execution_count": 33,
   "id": "b12c0078",
   "metadata": {},
   "outputs": [
    {
     "name": "stdout",
     "output_type": "stream",
     "text": [
      "<_BatchDataset element_spec=((TensorSpec(shape=(1024,), dtype=tf.int64, name=None), TensorSpec(shape=(1024, 5), dtype=tf.int64, name=None)), TensorSpec(shape=(1024, 5), dtype=tf.int64, name=None))>\n"
     ]
    }
   ],
   "source": [
    "BATCH_SIZE = 1024\n",
    "BUFFER_SIZE = 10000\n",
    "dataset = tf.data.Dataset.from_tensor_slices(((targets, contexts), labels))\n",
    "dataset = dataset.shuffle(BUFFER_SIZE).batch(BATCH_SIZE, drop_remainder=True)\n",
    "print(dataset)"
   ]
  },
  {
   "cell_type": "code",
   "execution_count": 34,
   "id": "cf98f6a7",
   "metadata": {},
   "outputs": [
    {
     "name": "stdout",
     "output_type": "stream",
     "text": [
      "<_PrefetchDataset element_spec=((TensorSpec(shape=(1024,), dtype=tf.int64, name=None), TensorSpec(shape=(1024, 5), dtype=tf.int64, name=None)), TensorSpec(shape=(1024, 5), dtype=tf.int64, name=None))>\n"
     ]
    }
   ],
   "source": [
    "dataset = dataset.cache().prefetch(buffer_size=tf.data.AUTOTUNE)\n",
    "print(dataset)"
   ]
  },
  {
   "cell_type": "markdown",
   "id": "8aadfb67",
   "metadata": {},
   "source": [
    "### Model Training"
   ]
  },
  {
   "cell_type": "code",
   "execution_count": 35,
   "id": "51dd91ba",
   "metadata": {},
   "outputs": [],
   "source": [
    "class Word2Vec(tf.keras.Model):\n",
    "  def __init__(self, vocab_size, embedding_dim):\n",
    "    super(Word2Vec, self).__init__()\n",
    "    self.target_embedding = layers.Embedding(vocab_size,\n",
    "                                      embedding_dim,\n",
    "                                      name=\"w2v_embedding\")\n",
    "    self.context_embedding = layers.Embedding(vocab_size,\n",
    "                                       embedding_dim)\n",
    "\n",
    "  def call(self, pair):\n",
    "    target, context = pair\n",
    "    # target: (batch, dummy?)  # The dummy axis doesn't exist in TF2.7+\n",
    "    # context: (batch, context)\n",
    "    if len(target.shape) == 2:\n",
    "      target = tf.squeeze(target, axis=1)\n",
    "    # target: (batch,)\n",
    "    word_emb = self.target_embedding(target)\n",
    "    # word_emb: (batch, embed)\n",
    "    context_emb = self.context_embedding(context)\n",
    "    # context_emb: (batch, context, embed)\n",
    "    dots = tf.einsum('be,bce->bc', word_emb, context_emb)\n",
    "    # dots: (batch, context)\n",
    "    return dots"
   ]
  },
  {
   "cell_type": "code",
   "execution_count": 36,
   "id": "91efe655",
   "metadata": {},
   "outputs": [],
   "source": [
    "def custom_loss(x_logit, y_true):\n",
    "      return tf.nn.sigmoid_cross_entropy_with_logits(logits=x_logit, labels=y_true)"
   ]
  },
  {
   "cell_type": "code",
   "execution_count": 37,
   "id": "0c8bacea",
   "metadata": {},
   "outputs": [
    {
     "name": "stdout",
     "output_type": "stream",
     "text": [
      "Epoch 1/20\n"
     ]
    },
    {
     "name": "stdout",
     "output_type": "stream",
     "text": [
      "\u001b[1m105/105\u001b[0m \u001b[32m━━━━━━━━━━━━━━━━━━━━\u001b[0m\u001b[37m\u001b[0m \u001b[1m6s\u001b[0m 39ms/step - accuracy: 0.2758 - loss: 1.6002\n",
      "Epoch 2/20\n",
      "\u001b[1m105/105\u001b[0m \u001b[32m━━━━━━━━━━━━━━━━━━━━\u001b[0m\u001b[37m\u001b[0m \u001b[1m4s\u001b[0m 35ms/step - accuracy: 0.4420 - loss: 1.5111\n",
      "Epoch 3/20\n",
      "\u001b[1m105/105\u001b[0m \u001b[32m━━━━━━━━━━━━━━━━━━━━\u001b[0m\u001b[37m\u001b[0m \u001b[1m4s\u001b[0m 36ms/step - accuracy: 0.4603 - loss: 1.4015\n",
      "Epoch 4/20\n",
      "\u001b[1m105/105\u001b[0m \u001b[32m━━━━━━━━━━━━━━━━━━━━\u001b[0m\u001b[37m\u001b[0m \u001b[1m5s\u001b[0m 49ms/step - accuracy: 0.5057 - loss: 1.3065\n",
      "Epoch 5/20\n",
      "\u001b[1m105/105\u001b[0m \u001b[32m━━━━━━━━━━━━━━━━━━━━\u001b[0m\u001b[37m\u001b[0m \u001b[1m6s\u001b[0m 56ms/step - accuracy: 0.5479 - loss: 1.2234\n",
      "Epoch 6/20\n",
      "\u001b[1m105/105\u001b[0m \u001b[32m━━━━━━━━━━━━━━━━━━━━\u001b[0m\u001b[37m\u001b[0m \u001b[1m4s\u001b[0m 35ms/step - accuracy: 0.5870 - loss: 1.1490\n",
      "Epoch 7/20\n",
      "\u001b[1m105/105\u001b[0m \u001b[32m━━━━━━━━━━━━━━━━━━━━\u001b[0m\u001b[37m\u001b[0m \u001b[1m4s\u001b[0m 41ms/step - accuracy: 0.6225 - loss: 1.0809\n",
      "Epoch 8/20\n",
      "\u001b[1m105/105\u001b[0m \u001b[32m━━━━━━━━━━━━━━━━━━━━\u001b[0m\u001b[37m\u001b[0m \u001b[1m4s\u001b[0m 42ms/step - accuracy: 0.6549 - loss: 1.0175\n",
      "Epoch 9/20\n",
      "\u001b[1m105/105\u001b[0m \u001b[32m━━━━━━━━━━━━━━━━━━━━\u001b[0m\u001b[37m\u001b[0m \u001b[1m4s\u001b[0m 35ms/step - accuracy: 0.6840 - loss: 0.9583\n",
      "Epoch 10/20\n",
      "\u001b[1m105/105\u001b[0m \u001b[32m━━━━━━━━━━━━━━━━━━━━\u001b[0m\u001b[37m\u001b[0m \u001b[1m3s\u001b[0m 32ms/step - accuracy: 0.7100 - loss: 0.9028\n",
      "Epoch 11/20\n",
      "\u001b[1m105/105\u001b[0m \u001b[32m━━━━━━━━━━━━━━━━━━━━\u001b[0m\u001b[37m\u001b[0m \u001b[1m3s\u001b[0m 31ms/step - accuracy: 0.7324 - loss: 0.8510\n",
      "Epoch 12/20\n",
      "\u001b[1m105/105\u001b[0m \u001b[32m━━━━━━━━━━━━━━━━━━━━\u001b[0m\u001b[37m\u001b[0m \u001b[1m3s\u001b[0m 30ms/step - accuracy: 0.7521 - loss: 0.8027\n",
      "Epoch 13/20\n",
      "\u001b[1m105/105\u001b[0m \u001b[32m━━━━━━━━━━━━━━━━━━━━\u001b[0m\u001b[37m\u001b[0m \u001b[1m4s\u001b[0m 33ms/step - accuracy: 0.7707 - loss: 0.7578\n",
      "Epoch 14/20\n",
      "\u001b[1m105/105\u001b[0m \u001b[32m━━━━━━━━━━━━━━━━━━━━\u001b[0m\u001b[37m\u001b[0m \u001b[1m3s\u001b[0m 28ms/step - accuracy: 0.7865 - loss: 0.7163\n",
      "Epoch 15/20\n",
      "\u001b[1m105/105\u001b[0m \u001b[32m━━━━━━━━━━━━━━━━━━━━\u001b[0m\u001b[37m\u001b[0m \u001b[1m3s\u001b[0m 31ms/step - accuracy: 0.8007 - loss: 0.6779\n",
      "Epoch 16/20\n",
      "\u001b[1m105/105\u001b[0m \u001b[32m━━━━━━━━━━━━━━━━━━━━\u001b[0m\u001b[37m\u001b[0m \u001b[1m3s\u001b[0m 30ms/step - accuracy: 0.8136 - loss: 0.6425\n",
      "Epoch 17/20\n",
      "\u001b[1m105/105\u001b[0m \u001b[32m━━━━━━━━━━━━━━━━━━━━\u001b[0m\u001b[37m\u001b[0m \u001b[1m3s\u001b[0m 29ms/step - accuracy: 0.8247 - loss: 0.6098\n",
      "Epoch 18/20\n",
      "\u001b[1m105/105\u001b[0m \u001b[32m━━━━━━━━━━━━━━━━━━━━\u001b[0m\u001b[37m\u001b[0m \u001b[1m4s\u001b[0m 36ms/step - accuracy: 0.8354 - loss: 0.5798\n",
      "Epoch 19/20\n",
      "\u001b[1m105/105\u001b[0m \u001b[32m━━━━━━━━━━━━━━━━━━━━\u001b[0m\u001b[37m\u001b[0m \u001b[1m4s\u001b[0m 36ms/step - accuracy: 0.8445 - loss: 0.5522\n",
      "Epoch 20/20\n",
      "\u001b[1m105/105\u001b[0m \u001b[32m━━━━━━━━━━━━━━━━━━━━\u001b[0m\u001b[37m\u001b[0m \u001b[1m4s\u001b[0m 34ms/step - accuracy: 0.8532 - loss: 0.5268\n"
     ]
    },
    {
     "data": {
      "text/plain": [
       "<keras.src.callbacks.history.History at 0x2ee79930ce0>"
      ]
     },
     "execution_count": 37,
     "metadata": {},
     "output_type": "execute_result"
    }
   ],
   "source": [
    "embedding_dim = 128\n",
    "word2vec = Word2Vec(vocab_size, embedding_dim)\n",
    "word2vec.compile(optimizer='adam',\n",
    "                 loss=tf.keras.losses.CategoricalCrossentropy(from_logits=True),\n",
    "                 metrics=['accuracy'])\n",
    "tensorboard_callback = tf.keras.callbacks.TensorBoard(log_dir=\"logs\")\n",
    "word2vec.fit(dataset, epochs=20, callbacks=[tensorboard_callback])"
   ]
  },
  {
   "cell_type": "code",
   "execution_count": 38,
   "id": "c8ccf6d9",
   "metadata": {},
   "outputs": [],
   "source": [
    "# please use terminal instead of notebook [tensorboard --logdir logs/train/]\n",
    "\n",
    "# %load_ext tensorboard\n",
    "# %tensorboard --logdir logs/train/\n"
   ]
  },
  {
   "cell_type": "markdown",
   "id": "c49ffc29",
   "metadata": {},
   "source": [
    "#### Embedding lookup and analysis"
   ]
  },
  {
   "cell_type": "code",
   "execution_count": 39,
   "id": "d704c108",
   "metadata": {},
   "outputs": [],
   "source": [
    "weights = word2vec.get_layer('w2v_embedding').get_weights()[0]\n",
    "vocab = vectorize_layer.get_vocabulary()"
   ]
  },
  {
   "cell_type": "code",
   "execution_count": 40,
   "id": "3c90b37c",
   "metadata": {},
   "outputs": [],
   "source": [
    "# out_v = io.open('vectors.tsv', 'w', encoding='utf-8')\n",
    "# out_m = io.open('metadata.tsv', 'w', encoding='utf-8')\n",
    "\n",
    "# for index, word in enumerate(vocab):\n",
    "#   if index == 0:\n",
    "#     continue  # skip 0, it's padding.\n",
    "#   vec = weights[index]\n",
    "#   out_v.write('\\t'.join([str(x) for x in vec]) + \"\\n\")\n",
    "#   out_m.write(word + \"\\n\")\n",
    "# out_v.close()\n",
    "# out_m.close()"
   ]
  },
  {
   "cell_type": "markdown",
   "id": "d3e65b57",
   "metadata": {},
   "source": [
    "# <font color=\"pink\"> Now prepare embeddings on new sentences.\n",
    "Analysis on Standalone Vector Space and Contextual Vector Space </font>"
   ]
  },
  {
   "cell_type": "code",
   "execution_count": 41,
   "id": "0b93cb2e",
   "metadata": {},
   "outputs": [
    {
     "name": "stdout",
     "output_type": "stream",
     "text": [
      "<class 'bytes'>\n",
      "I love deep learning\n"
     ]
    }
   ],
   "source": [
    "new_sentence = tf.data.Dataset.from_tensors([\"I love deep learning\"])\n",
    "for ele in new_sentence.as_numpy_iterator():\n",
    "    print(type(ele[0]))\n",
    "    print(ele[0].decode('utf-8'))\n",
    "# token_ids = [word2id[word] for word in new_sentence.lower().split() if word in word2id]\n"
   ]
  },
  {
   "cell_type": "code",
   "execution_count": 42,
   "id": "5154ebd5",
   "metadata": {},
   "outputs": [
    {
     "name": "stdout",
     "output_type": "stream",
     "text": [
      "[[   5   77  594 3038]]\n",
      "i\n",
      "love\n",
      "deep\n",
      "learning\n"
     ]
    },
    {
     "data": {
      "text/plain": [
       "array([   5,   77,  594, 3038])"
      ]
     },
     "execution_count": 42,
     "metadata": {},
     "output_type": "execute_result"
    }
   ],
   "source": [
    "sentence_tokens=new_sentence.map(vectorize_layer)\n",
    "for i in sentence_tokens.as_numpy_iterator():\n",
    "    print(i)\n",
    "    for j in i[0]:\n",
    "        print(vectorize_layer.get_vocabulary()[j])\n",
    "\n",
    "tokenized = list(sentence_tokens.as_numpy_iterator())[0][0]\n",
    "tokenized"
   ]
  },
  {
   "cell_type": "code",
   "execution_count": 43,
   "id": "e3612a76",
   "metadata": {},
   "outputs": [
    {
     "data": {
      "text/plain": [
       "['i', 'love', 'deep', 'learning']"
      ]
     },
     "execution_count": 43,
     "metadata": {},
     "output_type": "execute_result"
    }
   ],
   "source": [
    "# one can get list of words from given sentence, however getting them back from vocabulary is what need\n",
    "decoded=[str(vectorize_layer.get_vocabulary()[i]) for i in tokenized]\n",
    "decoded"
   ]
  },
  {
   "cell_type": "markdown",
   "id": "2c29c612",
   "metadata": {},
   "source": [
    "### <font color=\"violet\"> Use Trained Model to make embeddings for \n",
    "new sentence in both standalone(text->nummerical conversion) and context</font>"
   ]
  },
  {
   "cell_type": "code",
   "execution_count": 45,
   "id": "fca9cbe2",
   "metadata": {},
   "outputs": [],
   "source": [
    "# there two kinds of embeddings\n",
    "# 1. target embeddings\n",
    "# 2. context embeddings\n",
    "# we will look at 1\n",
    "target_emd_lay=word2vec.get_layer('w2v_embedding')\n",
    "context_emd_lay=word2vec.get_layer('embedding')"
   ]
  },
  {
   "cell_type": "code",
   "execution_count": 47,
   "id": "41ebfe55",
   "metadata": {},
   "outputs": [
    {
     "name": "stdout",
     "output_type": "stream",
     "text": [
      "target shape: (4, 128)\n",
      "context shape: (4, 128)\n"
     ]
    }
   ],
   "source": [
    "# Target\n",
    "target_embs=target_emd_lay(tokenized)\n",
    "\n",
    "# Context\n",
    "context_embs=context_emd_lay(tokenized)\n",
    "\n",
    "print(f\"target shape: {target_embs.shape}\")\n",
    "print(f\"context shape: {context_embs.shape}\")"
   ]
  },
  {
   "cell_type": "code",
   "execution_count": 50,
   "id": "aaa3d943",
   "metadata": {},
   "outputs": [
    {
     "data": {
      "text/plain": [
       "<tf.Tensor: shape=(4, 10), dtype=float32, numpy=\n",
       "array([[-0.01538119, -0.01358526, -0.01167059, -0.00150196, -0.02071205,\n",
       "        -0.02940475,  0.00826054, -0.03921934, -0.02892767, -0.00419988],\n",
       "       [-0.22672303, -0.06937864, -0.31278554,  0.05532202,  0.13045569,\n",
       "        -0.07116874, -0.02882163, -0.25438118,  0.02722955,  0.06261592],\n",
       "       [-0.3895726 , -0.08076718, -0.21989244,  0.03202932,  0.32016462,\n",
       "        -0.38029945,  0.171199  , -0.15118642,  0.13133807,  0.23799938],\n",
       "       [-0.29481688, -0.299254  , -0.2084872 , -0.12320442,  0.04215837,\n",
       "         0.04814989,  0.05326771, -0.31394863, -0.11544029, -0.00245122]],\n",
       "      dtype=float32)>"
      ]
     },
     "execution_count": 50,
     "metadata": {},
     "output_type": "execute_result"
    }
   ],
   "source": [
    "target_embs[:, :10]"
   ]
  },
  {
   "cell_type": "code",
   "execution_count": 51,
   "id": "0ffda37e",
   "metadata": {},
   "outputs": [
    {
     "data": {
      "text/plain": [
       "<tf.Tensor: shape=(4, 10), dtype=float32, numpy=\n",
       "array([[ 5.7873511e-01, -5.2550331e-02, -3.0824196e-01,  3.4349990e-01,\n",
       "         6.1286980e-01,  1.4332953e-01, -2.6036674e-01, -2.5076097e-01,\n",
       "        -7.1510392e-01, -7.3079928e-03],\n",
       "       [ 8.3907938e-01,  6.4773184e-01, -1.7532669e-01, -1.3177782e-01,\n",
       "         2.7925202e-01,  6.4094830e-04, -1.9858791e-01,  3.3094403e-01,\n",
       "         1.8898644e-01,  4.9289128e-01],\n",
       "       [-8.5776605e-02,  3.8780174e-01, -1.7425765e-01, -1.5099159e-01,\n",
       "         8.6432606e-02, -3.9784431e-01,  4.7826549e-01, -3.2362956e-01,\n",
       "         3.6540237e-01,  4.3739088e-02],\n",
       "       [ 4.5845944e-01,  2.9033554e-01, -5.5041362e-04, -5.2823555e-01,\n",
       "        -1.6467793e-01,  5.1208179e-02,  3.0757192e-01, -2.4065519e-02,\n",
       "         1.9757248e-01, -7.0315175e-02]], dtype=float32)>"
      ]
     },
     "execution_count": 51,
     "metadata": {},
     "output_type": "execute_result"
    }
   ],
   "source": [
    "context_embs[:, :10]"
   ]
  },
  {
   "cell_type": "markdown",
   "id": "3a4113e6",
   "metadata": {},
   "source": [
    "# PCA"
   ]
  },
  {
   "cell_type": "code",
   "execution_count": 52,
   "id": "38a6d684",
   "metadata": {},
   "outputs": [],
   "source": [
    "from sklearn.decomposition import PCA\n",
    "\n",
    "def pca_dims_of_embs(embs):\n",
    "\n",
    "    pca = PCA(n_components=2)\n",
    "    reduced_embeddings = pca.fit_transform(embs)\n",
    "    print(\"Reduced shape:\", reduced_embeddings.shape)  # (num_sentences, 2)\n",
    "    return reduced_embeddings\n",
    "    "
   ]
  },
  {
   "cell_type": "code",
   "execution_count": 53,
   "id": "e53745b1",
   "metadata": {},
   "outputs": [
    {
     "name": "stdout",
     "output_type": "stream",
     "text": [
      "Reduced shape: (4, 2)\n"
     ]
    }
   ],
   "source": [
    "reduced_embeddings_target=pca_dims_of_embs(target_embs)"
   ]
  },
  {
   "cell_type": "code",
   "execution_count": 54,
   "id": "ea4162b5",
   "metadata": {},
   "outputs": [
    {
     "name": "stdout",
     "output_type": "stream",
     "text": [
      "Reduced shape: (4, 2)\n"
     ]
    }
   ],
   "source": [
    "reduced_embeddings_context=pca_dims_of_embs(context_embs)"
   ]
  },
  {
   "cell_type": "markdown",
   "id": "12e73547",
   "metadata": {},
   "source": [
    "# Plot their relation in vector space"
   ]
  },
  {
   "cell_type": "code",
   "execution_count": 55,
   "id": "5e0f3e45",
   "metadata": {},
   "outputs": [],
   "source": [
    "import matplotlib.pyplot as plt\n",
    "\n",
    "def plot_vector_embs(reduced_embeddings, decoded, title):\n",
    "    plt.figure(figsize=(8,6))\n",
    "    plt.scatter(reduced_embeddings[:,0], reduced_embeddings[:,1], color='blue')\n",
    "\n",
    "    # Annotate points with the sentences\n",
    "    for i, sentence in enumerate(reduced_embeddings):\n",
    "        plt.annotate(decoded[i], (reduced_embeddings[i,0], reduced_embeddings[i,1]))\n",
    "\n",
    "    plt.title(title)\n",
    "    plt.xlabel(\"PCA component 1\")\n",
    "    plt.ylabel(\"PCA component 2\")\n",
    "    plt.grid(True)\n",
    "    plt.show()\n"
   ]
  },
  {
   "cell_type": "markdown",
   "id": "f3125b66",
   "metadata": {},
   "source": [
    "# <font color=\"red\"> Target Vector Space </font>"
   ]
  },
  {
   "cell_type": "code",
   "execution_count": 56,
   "id": "a727256c",
   "metadata": {},
   "outputs": [
    {
     "data": {
      "image/png": "[encoded data removed]",
      "text/plain": [
       "<Figure size 800x600 with 1 Axes>"
      ]
     },
     "metadata": {},
     "output_type": "display_data"
    }
   ],
   "source": [
    "plot_vector_embs(reduced_embeddings=reduced_embeddings_target,\n",
    "                 decoded=decoded,\n",
    "                 title=\"Words in Sentence Target Embeddings visualized in 2D\")"
   ]
  },
  {
   "cell_type": "markdown",
   "id": "3c55863f",
   "metadata": {},
   "source": [
    "# <font color=\"red\"> Context Vector Space </font>\n",
    "if two words are contextually matched or similar, then we can see them lie very closely in vector space: here [deep, learning]"
   ]
  },
  {
   "cell_type": "code",
   "execution_count": 57,
   "id": "9bc3011a",
   "metadata": {},
   "outputs": [
    {
     "data": {
      "image/png": "[encoded data removed]",
      "text/plain": [
       "<Figure size 800x600 with 1 Axes>"
      ]
     },
     "metadata": {},
     "output_type": "display_data"
    }
   ],
   "source": [
    "plot_vector_embs(reduced_embeddings=reduced_embeddings_context,\n",
    "                 decoded=decoded,\n",
    "                 title=\"Words in Sentence Context Embeddings visualized in 2D\")"
   ]
  }
 ],
 "metadata": {
  "kernelspec": {
   "display_name": ".venv",
   "language": "python",
   "name": "python3"
  },
  "language_info": {
   "codemirror_mode": {
    "name": "ipython",
    "version": 3
   },
   "file_extension": ".py",
   "mimetype": "text/x-python",
   "name": "python",
   "nbconvert_exporter": "python",
   "pygments_lexer": "ipython3",
   "version": "3.12.10"
  }
 },
 "nbformat": 4,
 "nbformat_minor": 5
}
